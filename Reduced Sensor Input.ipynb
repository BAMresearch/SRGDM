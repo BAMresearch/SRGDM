{
 "cells": [
  {
   "cell_type": "markdown",
   "id": "65d9e98e-ca31-47c5-811d-13ba75bcb40c",
   "metadata": {},
   "source": [
    "Initiliaze and prepare all models"
   ]
  },
  {
   "cell_type": "code",
   "execution_count": 1,
   "id": "f488d101-2dfd-41c9-9446-77c80362be26",
   "metadata": {},
   "outputs": [],
   "source": [
    "import matplotlib.pyplot as plt"
   ]
  },
  {
   "cell_type": "code",
   "execution_count": 2,
   "id": "831d662a-6e4a-491d-9b5e-cbaec4d6a2a9",
   "metadata": {},
   "outputs": [
    {
     "name": "stderr",
     "output_type": "stream",
     "text": [
      "/home/nwinkler/.conda/envs/torch/lib/python3.10/site-packages/tqdm/auto.py:22: TqdmWarning: IProgress not found. Please update jupyter and ipywidgets. See https://ipywidgets.readthedocs.io/en/stable/user_install.html\n",
      "  from .autonotebook import tqdm as notebook_tqdm\n"
     ]
    }
   ],
   "source": [
    "# ~~~~~~~~~~~~~~~~\n",
    "# PyTorch Model\n",
    "\n",
    "import torch\n",
    "import yaml\n",
    "from models.decoder import architectures\n",
    "\n",
    "with open(\"models/decoder/decoder_params.yaml\") as file:\n",
    "    params = yaml.safe_load(file)\n",
    "\n",
    "model = architectures.LightningNet(params[\"inner_dims\"], params[\"seq_len\"], params[\"learning_rate\"])\n",
    "model.load_state_dict(torch.load(\"models/decoder/decoder.pth\"))\n",
    "model.eval();\n",
    "\n",
    "model_denoise = architectures.LightningNet(params[\"inner_dims\"], params[\"seq_len\"], params[\"learning_rate\"])\n",
    "model_denoise.load_state_dict(torch.load(\"models/decoder/decoder_denoise.pth\"))\n",
    "model_denoise.eval();\n",
    "\n",
    "# ~~~~~~~~~~~~~~~~\n",
    "# Kernel DM+V\n",
    "\n",
    "from models.kernel_dmv.my_kernel_dmv import KernelDMV\n",
    "kdm = KernelDMV()\n",
    "\n",
    "# ~~~~~~~~~~~~~~~~\n",
    "# GMRF\n",
    "\n",
    "from models.gmrf.my_gmrf import myGMRF\n",
    "gmrf = myGMRF()"
   ]
  },
  {
   "cell_type": "code",
   "execution_count": 3,
   "id": "9378301a-e2f2-4cb0-a8e1-01369eafbeee",
   "metadata": {},
   "outputs": [],
   "source": [
    "import scipy.interpolate as interpolate\n",
    "import numpy as np\n",
    "\n",
    "def interpolate_batch(X, dropout_probability=0.5):\n",
    "    \"\"\"Interpolate a batch of size [batch, channel, width, height]\"\"\"\n",
    "    all_interpolated = torch.empty([1,6,5])\n",
    "    \n",
    "    for sample in range(X.shape[0]):\n",
    "        this_X = X[sample][0][0].clone()\n",
    "        \n",
    "        r = np.linspace(0, 1, this_X.shape[0])\n",
    "        c = np.linspace(0, 1, this_X.shape[1])\n",
    "\n",
    "        rr, cc = np.meshgrid(c, r)\n",
    "        mask = this_X.bernoulli(1-dropout_probability).bool()\n",
    "        \n",
    "        try:\n",
    "            f = interpolate.Rbf(rr[mask], cc[mask], this_X[mask], function='linear')\n",
    "            interpolated = torch.tensor(f(rr, cc)).unsqueeze(0).float()\n",
    "        except:\n",
    "            interpolated = this_X   \n",
    "\n",
    "        all_interpolated = torch.cat([all_interpolated, interpolated])\n",
    "        \n",
    "    all_interpolated = all_interpolated.unsqueeze(1).unsqueeze(1)\n",
    "    return all_interpolated[1:]"
   ]
  },
  {
   "cell_type": "markdown",
   "id": "863e1f89-0001-42b7-823e-353bb0526e53",
   "metadata": {},
   "source": [
    "### Data & Metrics"
   ]
  },
  {
   "cell_type": "markdown",
   "id": "cff9d927-c602-44a6-8131-a620048f3279",
   "metadata": {},
   "source": [
    "Specify data"
   ]
  },
  {
   "cell_type": "code",
   "execution_count": 22,
   "id": "e09be215-572c-464e-8294-d8dbf96406cf",
   "metadata": {},
   "outputs": [],
   "source": [
    "from torch.utils import data\n",
    "from data.gdm_dataset import GasDataSet\n",
    "\n",
    "dataset = GasDataSet(\"data/30x25/test.pt\")"
   ]
  },
  {
   "cell_type": "markdown",
   "id": "fbd06c75-e4ea-4946-8641-b35abc2abb66",
   "metadata": {},
   "source": [
    "### Run"
   ]
  },
  {
   "cell_type": "code",
   "execution_count": 5,
   "id": "f10ab20b-0b11-4a96-84af-ae9cbdd41369",
   "metadata": {},
   "outputs": [],
   "source": [
    "list_of_models = [\n",
    "                  \"decoder\",\n",
    "                  \"gmrf\",\n",
    "                  \"kdm\",\n",
    "                 ]"
   ]
  },
  {
   "cell_type": "code",
   "execution_count": 79,
   "id": "63ec30ac-f22a-439e-b306-41decf063d06",
   "metadata": {
    "tags": []
   },
   "outputs": [],
   "source": [
    "from tqdm import tqdm\n",
    "import gdm_metrics\n",
    "\n",
    "def run_test(dropout_probability):\n",
    "    rmse = {\"decoder\": 0,\n",
    "            \"gmrf\": 0,\n",
    "            \"kdm\": 0}\n",
    "\n",
    "    kld = {\"decoder\": 0,\n",
    "           \"gmrf\": 0,\n",
    "           \"kdm\": 0}\n",
    "    \n",
    "    dataloader = iter(data.DataLoader(dataset, shuffle=False, drop_last=True))\n",
    "\n",
    "    for X, y in tqdm(dataloader):\n",
    "        X_drop = interpolate_batch(X, dropout_probability)\n",
    "        X_drop = torch.clamp(X_drop, min=0)\n",
    "\n",
    "        with torch.no_grad(): \n",
    "            if \"decoder\" in list_of_models:\n",
    "                y_decoder = model(X_drop.squeeze(1))\n",
    "                rmse[\"decoder\"] += gdm_metrics.rmse(y_decoder, y)\n",
    "                kld[\"decoder\"] += gdm_metrics.kld(y_decoder, y)\n",
    "\n",
    "            if \"gmrf\" in list_of_models:\n",
    "                y_gmrf = gmrf.calculate(X_drop.squeeze())[None,None,:]  # add two empty dimensions to be consistent with y.shape\n",
    "                rmse[\"gmrf\"] += gdm_metrics.rmse(y_gmrf, y)\n",
    "                kld[\"gmrf\"] += gdm_metrics.kld(y_gmrf, y)\n",
    "\n",
    "            if \"kdm\" in list_of_models:\n",
    "                y_kdm = kdm.calculate(X_drop.squeeze())[None,None,:]    # add two empty dimensions to be consistent with y.shape\n",
    "                rmse[\"kdm\"] += gdm_metrics.rmse(y_kdm, y)\n",
    "                kld[\"kdm\"] += gdm_metrics.kld(y_kdm, y)\n",
    "                \n",
    "    return rmse,kld"
   ]
  },
  {
   "cell_type": "markdown",
   "id": "cceace21-8221-4de7-9998-16bda446c348",
   "metadata": {},
   "source": [
    "### Evaluation"
   ]
  },
  {
   "cell_type": "markdown",
   "id": "1e1f211e-aa6c-4481-a5cf-19b2039c8fb2",
   "metadata": {},
   "source": [
    "Dropout probability = 0"
   ]
  },
  {
   "cell_type": "code",
   "execution_count": 7,
   "id": "4788c8e3-0d8c-4af8-b177-a632b96f8195",
   "metadata": {},
   "outputs": [
    {
     "name": "stderr",
     "output_type": "stream",
     "text": [
      "100%|█████████████████████████████████████████████████████████████████████| 32400/32400 [28:41<00:00, 18.82it/s]"
     ]
    },
    {
     "name": "stdout",
     "output_type": "stream",
     "text": [
      "########\n",
      "# RMSE #\n",
      "########\n",
      "decoder: \t 0.07058026641607285\n",
      "gmrf: \t 0.11100773428192476\n",
      "kdm: \t 0.11176697431124033\n",
      "########\n",
      "# KL D #\n",
      "########\n",
      "decoder: \t 0.0032490077428519726\n",
      "gmrf: \t 0.008397889089196814\n",
      "kdm: \t 0.008162776568291319\n"
     ]
    },
    {
     "name": "stderr",
     "output_type": "stream",
     "text": [
      "\n"
     ]
    }
   ],
   "source": [
    "rmse, kld = run_test(0)\n",
    "\n",
    "print(f\"########\\n# RMSE #\\n########\")\n",
    "for elem in rmse:\n",
    "    print(f\"{elem}: \\t {rmse[elem]/len(dataset)}\")\n",
    "    \n",
    "print(f\"########\\n# KL D #\\n########\")\n",
    "for elem in kld:\n",
    "    print(f\"{elem}: \\t {kld[elem]/len(dataset)}\")"
   ]
  },
  {
   "cell_type": "markdown",
   "id": "d062a7f7-671d-43f8-b5bc-1eb036a2d63a",
   "metadata": {},
   "source": [
    "Dropout probability = 0.1"
   ]
  },
  {
   "cell_type": "code",
   "execution_count": 80,
   "id": "6d920588-43a5-4e1e-bdce-247a73b0a159",
   "metadata": {
    "tags": []
   },
   "outputs": [
    {
     "name": "stderr",
     "output_type": "stream",
     "text": [
      "100%|█████████████████████████████████████████████████████████████████████| 32400/32400 [29:10<00:00, 18.51it/s]"
     ]
    },
    {
     "name": "stdout",
     "output_type": "stream",
     "text": [
      "########\n",
      "# RMSE #\n",
      "########\n",
      "decoder: \t 0.08487005531787872\n",
      "gmrf: \t 0.11642053263419509\n",
      "kdm: \t 0.11703312566815562\n",
      "########\n",
      "# KL D #\n",
      "########\n",
      "decoder: \t 0.004725067876279354\n",
      "gmrf: \t 0.00920623369479877\n",
      "kdm: \t 0.008985643012736506\n"
     ]
    },
    {
     "name": "stderr",
     "output_type": "stream",
     "text": [
      "\n"
     ]
    }
   ],
   "source": [
    "rmse, kld = run_test(0.1)\n",
    "\n",
    "print(f\"########\\n# RMSE #\\n########\")\n",
    "for elem in rmse:\n",
    "    print(f\"{elem}: \\t {rmse[elem]/len(dataset)}\")\n",
    "    \n",
    "print(f\"########\\n# KL D #\\n########\")\n",
    "for elem in kld:\n",
    "    print(f\"{elem}: \\t {kld[elem]/len(dataset)}\")"
   ]
  },
  {
   "cell_type": "markdown",
   "id": "b754a917-11c1-45f5-b42f-e2dd55dc53ad",
   "metadata": {},
   "source": [
    "Dropout probability = 0.2"
   ]
  },
  {
   "cell_type": "code",
   "execution_count": 81,
   "id": "4b1ea675-4baa-4027-b9aa-4c0e1b28d742",
   "metadata": {},
   "outputs": [
    {
     "name": "stderr",
     "output_type": "stream",
     "text": [
      "100%|█████████████████████████████████████████████████████████████████████| 32400/32400 [29:09<00:00, 18.52it/s]"
     ]
    },
    {
     "name": "stdout",
     "output_type": "stream",
     "text": [
      "########\n",
      "# RMSE #\n",
      "########\n",
      "decoder: \t 0.09923622012138367\n",
      "gmrf: \t 0.12260285959104737\n",
      "kdm: \t 0.12302103115679401\n",
      "########\n",
      "# KL D #\n",
      "########\n",
      "decoder: \t 0.006354163400828838\n",
      "gmrf: \t 0.01016387159404957\n",
      "kdm: \t 0.00995567692282639\n"
     ]
    },
    {
     "name": "stderr",
     "output_type": "stream",
     "text": [
      "\n"
     ]
    }
   ],
   "source": [
    "rmse, kld = run_test(0.2)\n",
    "\n",
    "print(f\"########\\n# RMSE #\\n########\")\n",
    "for elem in rmse:\n",
    "    print(f\"{elem}: \\t {rmse[elem]/len(dataset)}\")\n",
    "    \n",
    "print(f\"########\\n# KL D #\\n########\")\n",
    "for elem in kld:\n",
    "    print(f\"{elem}: \\t {kld[elem]/len(dataset)}\")"
   ]
  },
  {
   "cell_type": "markdown",
   "id": "6ef0801c-992a-417d-adb0-c1cff2f2df3b",
   "metadata": {},
   "source": [
    "Dropout probability = 0.3"
   ]
  },
  {
   "cell_type": "code",
   "execution_count": 82,
   "id": "00ad11ce-75df-49f6-9582-7b5dd631acf4",
   "metadata": {},
   "outputs": [
    {
     "name": "stderr",
     "output_type": "stream",
     "text": [
      "100%|█████████████████████████████████████████████████████████████████████| 32400/32400 [31:44<00:00, 17.01it/s]"
     ]
    },
    {
     "name": "stdout",
     "output_type": "stream",
     "text": [
      "########\n",
      "# RMSE #\n",
      "########\n",
      "decoder: \t 0.11317837238311768\n",
      "gmrf: \t 0.12925757799412382\n",
      "kdm: \t 0.12943918194590892\n",
      "########\n",
      "# KL D #\n",
      "########\n",
      "decoder: \t 0.00807542260736227\n",
      "gmrf: \t 0.011217099381724478\n",
      "kdm: \t 0.011019703035804879\n"
     ]
    },
    {
     "name": "stderr",
     "output_type": "stream",
     "text": [
      "\n"
     ]
    }
   ],
   "source": [
    "rmse, kld = run_test(0.3)\n",
    "\n",
    "print(f\"########\\n# RMSE #\\n########\")\n",
    "for elem in rmse:\n",
    "    print(f\"{elem}: \\t {rmse[elem]/len(dataset)}\")\n",
    "    \n",
    "print(f\"########\\n# KL D #\\n########\")\n",
    "for elem in kld:\n",
    "    print(f\"{elem}: \\t {kld[elem]/len(dataset)}\")"
   ]
  },
  {
   "cell_type": "markdown",
   "id": "3804ece9-be6b-4ec2-bb0e-7099268e92e1",
   "metadata": {},
   "source": [
    "Dropout probability = 0.4"
   ]
  },
  {
   "cell_type": "code",
   "execution_count": 83,
   "id": "61ff0174-c315-4740-9152-224d5904ec07",
   "metadata": {},
   "outputs": [
    {
     "name": "stderr",
     "output_type": "stream",
     "text": [
      "100%|█████████████████████████████████████████████████████████████████████| 32400/32400 [31:21<00:00, 17.22it/s]"
     ]
    },
    {
     "name": "stdout",
     "output_type": "stream",
     "text": [
      "########\n",
      "# RMSE #\n",
      "########\n",
      "decoder: \t 0.12853094935417175\n",
      "gmrf: \t 0.1374386598504956\n",
      "kdm: \t 0.1372600537708818\n",
      "########\n",
      "# KL D #\n",
      "########\n",
      "decoder: \t 0.010160161182284355\n",
      "gmrf: \t 0.012562012110366979\n",
      "kdm: \t 0.012366408932381097\n"
     ]
    },
    {
     "name": "stderr",
     "output_type": "stream",
     "text": [
      "\n"
     ]
    }
   ],
   "source": [
    "rmse, kld = run_test(0.4)\n",
    "\n",
    "print(f\"########\\n# RMSE #\\n########\")\n",
    "for elem in rmse:\n",
    "    print(f\"{elem}: \\t {rmse[elem]/len(dataset)}\")\n",
    "    \n",
    "print(f\"########\\n# KL D #\\n########\")\n",
    "for elem in kld:\n",
    "    print(f\"{elem}: \\t {kld[elem]/len(dataset)}\")"
   ]
  },
  {
   "cell_type": "markdown",
   "id": "82b4ba71-8ef3-474e-a0a8-87ae410dc9fd",
   "metadata": {},
   "source": [
    "Dropout probability = 0.5"
   ]
  },
  {
   "cell_type": "code",
   "execution_count": 84,
   "id": "4981bf55-119b-4232-8d4a-103e752be766",
   "metadata": {},
   "outputs": [
    {
     "name": "stderr",
     "output_type": "stream",
     "text": [
      "100%|█████████████████████████████████████████████████████████████████████| 32400/32400 [31:39<00:00, 17.06it/s]"
     ]
    },
    {
     "name": "stdout",
     "output_type": "stream",
     "text": [
      "########\n",
      "# RMSE #\n",
      "########\n",
      "decoder: \t 0.1441357433795929\n",
      "gmrf: \t 0.1467790664119138\n",
      "kdm: \t 0.1461100295940834\n",
      "########\n",
      "# KL D #\n",
      "########\n",
      "decoder: \t 0.012422662228345871\n",
      "gmrf: \t 0.014128353294522823\n",
      "kdm: \t 0.013925408417334011\n"
     ]
    },
    {
     "name": "stderr",
     "output_type": "stream",
     "text": [
      "\n"
     ]
    }
   ],
   "source": [
    "rmse, kld = run_test(0.5)\n",
    "\n",
    "print(f\"########\\n# RMSE #\\n########\")\n",
    "for elem in rmse:\n",
    "    print(f\"{elem}: \\t {rmse[elem]/len(dataset)}\")\n",
    "    \n",
    "print(f\"########\\n# KL D #\\n########\")\n",
    "for elem in kld:\n",
    "    print(f\"{elem}: \\t {kld[elem]/len(dataset)}\")"
   ]
  },
  {
   "cell_type": "code",
   "execution_count": null,
   "id": "5d7da3c2-9bba-4c54-89a0-775d12ea8956",
   "metadata": {},
   "outputs": [],
   "source": []
  }
 ],
 "metadata": {
  "kernelspec": {
   "display_name": "Python 3 (ipykernel)",
   "language": "python",
   "name": "python3"
  },
  "language_info": {
   "codemirror_mode": {
    "name": "ipython",
    "version": 3
   },
   "file_extension": ".py",
   "mimetype": "text/x-python",
   "name": "python",
   "nbconvert_exporter": "python",
   "pygments_lexer": "ipython3",
   "version": "3.10.8"
  }
 },
 "nbformat": 4,
 "nbformat_minor": 5
}
