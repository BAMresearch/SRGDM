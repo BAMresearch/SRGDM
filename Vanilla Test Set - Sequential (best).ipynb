{
 "cells": [
  {
   "cell_type": "markdown",
   "id": "65d9e98e-ca31-47c5-811d-13ba75bcb40c",
   "metadata": {},
   "source": [
    "Initiliaze and prepare all models"
   ]
  },
  {
   "cell_type": "code",
   "execution_count": 3,
   "id": "5cc6ee28-d34f-401b-abaf-8eae39d417da",
   "metadata": {},
   "outputs": [],
   "source": [
    "# Load model from checkpoint\n",
    "import torch\n",
    "import yaml\n",
    "from models.decoder import architectures\n",
    "\n",
    "with open(\"models/decoder/sequential_decoder_6_params.yaml\") as file:\n",
    "    params = yaml.safe_load(file)\n",
    "\n",
    "#ckpt_file_path = \"models/decoder/sequential_decoder_6.ckpt\"\n",
    "#model = architectures.LightningDecoderNet.load_from_checkpoint(ckpt_file_path, \n",
    "#                                                               inner_dims=params[\"inner_dims\"], \n",
    "#                                                               seq_len=params[\"seq_len\"], \n",
    "#                                                               learning_rate=params[\"learning_rate\"])\n",
    "#torch.save(model.state_dict(), \"models/decoder/sequential_decoder_6.pth\")"
   ]
  },
  {
   "cell_type": "code",
   "execution_count": 1,
   "id": "831d662a-6e4a-491d-9b5e-cbaec4d6a2a9",
   "metadata": {},
   "outputs": [],
   "source": [
    "# ~~~~~~~~~~~~~~~~\n",
    "# PyTorch Model\n",
    "\n",
    "import torch\n",
    "import yaml\n",
    "from models.decoder import architectures\n",
    "\n",
    "with open(\"models/decoder/sequential_decoder_length6_params.yaml\") as file:\n",
    "    params = yaml.safe_load(file)\n",
    "\n",
    "decoder = architectures.LightningDecoderNet(params[\"inner_dims\"], params[\"seq_len\"], params[\"learning_rate\"])\n",
    "decoder.load_state_dict(torch.load(\"models/decoder/sequential_decoder_length6.pth\"))\n",
    "decoder.eval();\n",
    "\n",
    "# ~~~~~~~~~~~~~~~~\n",
    "# ESM\n",
    "\n",
    "# To Do"
   ]
  },
  {
   "cell_type": "markdown",
   "id": "863e1f89-0001-42b7-823e-353bb0526e53",
   "metadata": {},
   "source": [
    "### Data & Metrics"
   ]
  },
  {
   "cell_type": "markdown",
   "id": "cff9d927-c602-44a6-8131-a620048f3279",
   "metadata": {},
   "source": [
    "Specify data"
   ]
  },
  {
   "cell_type": "code",
   "execution_count": 4,
   "id": "e09be215-572c-464e-8294-d8dbf96406cf",
   "metadata": {},
   "outputs": [],
   "source": [
    "from torch.utils import data\n",
    "from data.gdm_dataset import GasDataSet\n",
    "\n",
    "dataset = GasDataSet(\"data/30x25/test.pt\", seq_len=params[\"seq_len\"])"
   ]
  },
  {
   "cell_type": "code",
   "execution_count": 3,
   "id": "7a4bad58-3fa1-46d3-ba8c-5a1651ed8f51",
   "metadata": {},
   "outputs": [],
   "source": [
    "# Load data\n",
    "\n",
    "import pickle\n",
    "\n",
    "X_path = \"models/esm/X.pkl\"\n",
    "X_all = pickle.load(open(X_path, \"rb\"))\n",
    "\n",
    "y_path = \"models/esm/y.pkl\"\n",
    "y_all = pickle.load(open(y_path, \"rb\" ) )\n",
    "\n",
    "\n",
    "# Load ESM predictions\n",
    "\n",
    "from scipy.io import loadmat\n",
    "\n",
    "y_esm_path = \"models/esm/preds.mat\"\n",
    "y_esm_all = loadmat(y_esm_path, verify_compressed_data_integrity=False)\n",
    "y_esm_all = y_esm_all[\"export\"]"
   ]
  },
  {
   "cell_type": "markdown",
   "id": "fc88ca43-a1c3-40ba-aca1-214a076826fb",
   "metadata": {},
   "source": [
    "Specify metrics"
   ]
  },
  {
   "cell_type": "code",
   "execution_count": 5,
   "id": "31bc2295-1248-4bae-9d9f-626583828ab5",
   "metadata": {},
   "outputs": [],
   "source": [
    "import gdm_metrics\n",
    "\n",
    "rmse = {\"decoder\": 0,\n",
    "        \"esm\": 0,\n",
    "        }\n",
    "\n",
    "kld = {\"decoder\": 0,\n",
    "       \"esm\": 0,\n",
    "       }"
   ]
  },
  {
   "cell_type": "markdown",
   "id": "fbd06c75-e4ea-4946-8641-b35abc2abb66",
   "metadata": {},
   "source": [
    "## Evaluation"
   ]
  },
  {
   "cell_type": "code",
   "execution_count": 6,
   "id": "63ec30ac-f22a-439e-b306-41decf063d06",
   "metadata": {
    "tags": []
   },
   "outputs": [
    {
     "name": "stderr",
     "output_type": "stream",
     "text": [
      "100%|██████████████████████████████████████████████████████████████████████| 31800/31800 [03:19<00:00, 159.26it/s]"
     ]
    },
    {
     "name": "stdout",
     "output_type": "stream",
     "text": [
      "########\n",
      "# RMSE #\n",
      "########\n"
     ]
    },
    {
     "name": "stderr",
     "output_type": "stream",
     "text": [
      "\n"
     ]
    },
    {
     "ename": "NameError",
     "evalue": "name 'X_all' is not defined",
     "output_type": "error",
     "traceback": [
      "\u001b[0;31m---------------------------------------------------------------------------\u001b[0m",
      "\u001b[0;31mNameError\u001b[0m                                 Traceback (most recent call last)",
      "Cell \u001b[0;32mIn[6], line 20\u001b[0m\n\u001b[1;32m     18\u001b[0m \u001b[38;5;28mprint\u001b[39m(\u001b[38;5;124mf\u001b[39m\u001b[38;5;124m\"\u001b[39m\u001b[38;5;124m########\u001b[39m\u001b[38;5;130;01m\\n\u001b[39;00m\u001b[38;5;124m# RMSE #\u001b[39m\u001b[38;5;130;01m\\n\u001b[39;00m\u001b[38;5;124m########\u001b[39m\u001b[38;5;124m\"\u001b[39m)\n\u001b[1;32m     19\u001b[0m \u001b[38;5;28;01mfor\u001b[39;00m elem \u001b[38;5;129;01min\u001b[39;00m rmse:\n\u001b[0;32m---> 20\u001b[0m     \u001b[38;5;28mprint\u001b[39m(\u001b[38;5;124mf\u001b[39m\u001b[38;5;124m\"\u001b[39m\u001b[38;5;132;01m{\u001b[39;00melem\u001b[38;5;132;01m}\u001b[39;00m\u001b[38;5;124m: \u001b[39m\u001b[38;5;130;01m\\t\u001b[39;00m\u001b[38;5;124m \u001b[39m\u001b[38;5;132;01m{\u001b[39;00mrmse[elem]\u001b[38;5;241m/\u001b[39m\u001b[38;5;28mlen\u001b[39m(X_all)\u001b[38;5;132;01m}\u001b[39;00m\u001b[38;5;124m\"\u001b[39m)\n\u001b[1;32m     22\u001b[0m \u001b[38;5;28mprint\u001b[39m(\u001b[38;5;124mf\u001b[39m\u001b[38;5;124m\"\u001b[39m\u001b[38;5;124m########\u001b[39m\u001b[38;5;130;01m\\n\u001b[39;00m\u001b[38;5;124m# KL D #\u001b[39m\u001b[38;5;130;01m\\n\u001b[39;00m\u001b[38;5;124m########\u001b[39m\u001b[38;5;124m\"\u001b[39m)\n\u001b[1;32m     23\u001b[0m \u001b[38;5;28;01mfor\u001b[39;00m elem \u001b[38;5;129;01min\u001b[39;00m kld:\n",
      "\u001b[0;31mNameError\u001b[0m: name 'X_all' is not defined"
     ]
    }
   ],
   "source": [
    "from tqdm import tqdm\n",
    "\n",
    "rmse = {\"decoder\": 0,\n",
    "        }\n",
    "\n",
    "kld = {\"decoder\": 0,\n",
    "       }\n",
    "\n",
    "\n",
    "dataloader = iter(data.DataLoader(dataset, shuffle=False, drop_last=True))\n",
    "\n",
    "for X, y in tqdm(dataloader):\n",
    "    with torch.no_grad(): \n",
    "        y_decoder = decoder(X.squeeze(2))\n",
    "        rmse[\"decoder\"] += gdm_metrics.rmse(y_decoder, y)\n",
    "        kld[\"decoder\"] += gdm_metrics.kld(y_decoder, y)\n",
    "            \n",
    "print(f\"########\\n# RMSE #\\n########\")\n",
    "for elem in rmse:\n",
    "    print(f\"{elem}: \\t {rmse[elem]/len(dataloader)}\")\n",
    "    \n",
    "print(f\"########\\n# KL D #\\n########\")\n",
    "for elem in kld:\n",
    "    print(f\"{elem}: \\t {kld[elem]/len(dataloader)}\")"
   ]
  },
  {
   "cell_type": "code",
   "execution_count": 9,
   "id": "846a55ba-1f73-4f8e-8500-082bdb29f775",
   "metadata": {},
   "outputs": [
    {
     "data": {
      "text/plain": [
       "11.845172577123666"
      ]
     },
     "execution_count": 9,
     "metadata": {},
     "output_type": "execute_result"
    }
   ],
   "source": [
    "import numpy as np\n",
    "0.0664244294166565 * np.sqrt(len(dataloader)) "
   ]
  },
  {
   "cell_type": "code",
   "execution_count": 8,
   "id": "ca2b46dd-c9c4-4714-a75b-51d078a80717",
   "metadata": {},
   "outputs": [
    {
     "name": "stdout",
     "output_type": "stream",
     "text": [
      "########\n",
      "# RMSE #\n",
      "########\n",
      "decoder: \t 0.0664244294166565\n",
      "########\n",
      "# KL D #\n",
      "########\n",
      "decoder: \t 0.0029262625612318516\n"
     ]
    }
   ],
   "source": [
    "print(f\"########\\n# RMSE #\\n########\")\n",
    "for elem in rmse:\n",
    "    print(f\"{elem}: \\t {rmse[elem]/len(dataloader)}\")\n",
    "    \n",
    "print(f\"########\\n# KL D #\\n########\")\n",
    "for elem in kld:\n",
    "    print(f\"{elem}: \\t {kld[elem]/len(dataloader)}\")"
   ]
  },
  {
   "cell_type": "code",
   "execution_count": 7,
   "id": "3a8fda30-a5dc-42f2-b4b5-b2cab2c9991f",
   "metadata": {},
   "outputs": [
    {
     "name": "stderr",
     "output_type": "stream",
     "text": [
      "100%|████████████████████████████████████| 30120/30120 [00:49<00:00, 605.02it/s]"
     ]
    },
    {
     "name": "stdout",
     "output_type": "stream",
     "text": [
      "########\n",
      "# RMSE #\n",
      "########\n",
      "decoder: \t 0.07328736037015915\n",
      "esm: \t 0.1408499926328659\n",
      "########\n",
      "# KL D #\n",
      "########\n",
      "decoder: \t 0.003549593733623624\n",
      "esm: \t 0.013593791984021664\n"
     ]
    },
    {
     "name": "stderr",
     "output_type": "stream",
     "text": [
      "\n"
     ]
    }
   ],
   "source": [
    "import numpy as np\n",
    "\n",
    "rmse = {\"decoder\": 0,\n",
    "        \"esm\": 0,\n",
    "        }\n",
    "\n",
    "kld = {\"decoder\": 0,\n",
    "       \"esm\": 0,\n",
    "       }\n",
    "\n",
    "for i in tqdm(range(len(X_all))):\n",
    "    X = X_all[i].unsqueeze(0)\n",
    "    y = y_all[i].unsqueeze(0).unsqueeze(0)\n",
    "    \n",
    "    with torch.no_grad(): \n",
    "        y_decoder = decoder(X)\n",
    "        rmse[\"decoder\"] += gdm_metrics.rmse(y_decoder, y)\n",
    "        kld[\"decoder\"] += gdm_metrics.kld(y_decoder, y) \n",
    "    \n",
    "    y_esm = torch.tensor(np.reshape(y_esm_all[i],[30,25], order=\"F\"))\n",
    "    y_esm = y_esm.unsqueeze(0).unsqueeze(0)\n",
    "    rmse[\"esm\"] += gdm_metrics.rmse(y_esm, y)\n",
    "    kld[\"esm\"] += gdm_metrics.kld(y_esm, y)\n",
    "    \n",
    "print(f\"########\\n# RMSE #\\n########\")\n",
    "for elem in rmse:\n",
    "    print(f\"{elem}: \\t {rmse[elem]/len(X_all)}\")\n",
    "    \n",
    "print(f\"########\\n# KL D #\\n########\")\n",
    "for elem in kld:\n",
    "    print(f\"{elem}: \\t {kld[elem]/len(X_all)}\")"
   ]
  },
  {
   "cell_type": "code",
   "execution_count": 3,
   "id": "43f461fd-16bf-422b-8b9c-c1488e6df0fb",
   "metadata": {},
   "outputs": [
    {
     "name": "stdout",
     "output_type": "stream",
     "text": [
      "Decoder RMSE: 12.719105320877341\n",
      "ESM RMSE: 24.44467752275151\n"
     ]
    }
   ],
   "source": [
    "import numpy as np\n",
    "\n",
    "# Correct RMSE calculation: \n",
    "print(f\"Decoder RMSE: {0.07328736037015915 * 30120/np.sqrt(30120)}\")\n",
    "print(f\"ESM RMSE: {0.1408499926328659 * 30120/np.sqrt(30120)}\")"
   ]
  },
  {
   "cell_type": "code",
   "execution_count": 38,
   "id": "caa85295-2fa1-4581-b111-4336e8a98588",
   "metadata": {},
   "outputs": [],
   "source": [
    "i = 1000\n",
    "\n",
    "X = X_all[i].unsqueeze(0)\n",
    "y = y_all[i].unsqueeze(0).unsqueeze(0)\n",
    "y_esm = torch.tensor(np.reshape(y_esm_all[i],[30,25], order=\"F\"))\n",
    "y_esm = y_esm.unsqueeze(0).unsqueeze(0)"
   ]
  },
  {
   "cell_type": "code",
   "execution_count": 41,
   "id": "ddd2cb8b-ddb6-406b-8e92-39845c38e16b",
   "metadata": {},
   "outputs": [
    {
     "data": {
      "text/plain": [
       "<matplotlib.image.AxesImage at 0x7fe8d6f78220>"
      ]
     },
     "execution_count": 41,
     "metadata": {},
     "output_type": "execute_result"
    },
    {
     "data": {
      "image/png": "[encoded data removed]",
      "text/plain": [
       "<Figure size 640x480 with 1 Axes>"
      ]
     },
     "metadata": {},
     "output_type": "display_data"
    }
   ],
   "source": [
    "import matplotlib.pyplot as plt\n",
    "\n",
    "plt.imshow(y_esm.squeeze())"
   ]
  },
  {
   "cell_type": "code",
   "execution_count": 17,
   "id": "9bb91357-9533-4796-82b4-0eb54947f63e",
   "metadata": {},
   "outputs": [],
   "source": [
    "import matplotlib.pyplot as plt\n",
    "\n",
    "def plot_gdm(data, ax=None, vmin=None, vmax=None):\n",
    "    if ax is None:\n",
    "        fig, ax = plt.subplots();\n",
    "        \n",
    "    ax.axis(\"off\");\n",
    "    return ax.imshow(data.squeeze().detach().numpy(), vmin=vmin, vmax=vmax)\n",
    "\n",
    "\n",
    "def plot_dict(input_dict, figsize=[5,5], cbar_base_col=0):\n",
    "    \"\"\" Plots the input of a dict. The dict should contain GDM data.\n",
    "    \n",
    "    Input:\n",
    "    input_dict: ...\n",
    "    figsize: ... (automatically in the future?)\n",
    "    cbar_base_col: Which col should be used as baseline vmin and vmax of plt.imshow.\n",
    "    \"\"\"\n",
    "    \n",
    "    rows = len(next(iter(input_dict.values())))\n",
    "    cols = len(input_dict)\n",
    "\n",
    "    fig, axes = plt.subplots(rows, len(input_dict), constrained_layout=True, figsize=figsize)  \n",
    "    \n",
    "    # Loop over rows (amount of samples)\n",
    "    for row in range(rows):\n",
    "        vmin=None\n",
    "        vmax=None\n",
    "\n",
    "        vmin = input_dict[list(input_dict.keys())[cbar_base_col]][row].min()\n",
    "        vmax = input_dict[list(input_dict.keys())[cbar_base_col]][row].max()   \n",
    "        \n",
    "        # Loop over cols (amount of models)\n",
    "        for col, i in zip(input_dict, range(cols)):\n",
    "            try:\n",
    "                # Try for multiple rows\n",
    "                plot_gdm(input_dict[col][row].squeeze(), axes[row][i], vmin=vmin, vmax=vmax);\n",
    "                if row == 0:\n",
    "                    axes[row][i].set_title(col)\n",
    "        \n",
    "            except:\n",
    "                # otherwise only single row\n",
    "                plot_gdm(input_dict[col][row].squeeze(), axes[i], vmin=vmin, vmax=vmax);\n",
    "                if row == 0:\n",
    "                    axes[i].set_title(col)\n",
    "    \n",
    "    return fig, axes"
   ]
  },
  {
   "cell_type": "code",
   "execution_count": 21,
   "id": "52c60f95-d4cb-4131-8419-3a0eb1382b03",
   "metadata": {},
   "outputs": [
    {
     "data": {
      "text/plain": [
       "torch.Size([1, 20, 6, 5])"
      ]
     },
     "execution_count": 21,
     "metadata": {},
     "output_type": "execute_result"
    }
   ],
   "source": [
    "X_list[0].shape"
   ]
  },
  {
   "cell_type": "code",
   "execution_count": 25,
   "id": "b549a267-13b5-4809-a973-e6c61023f8b6",
   "metadata": {},
   "outputs": [
    {
     "data": {
      "image/png": "[encoded data removed]",
      "text/plain": [
       "<Figure size 500x400 with 6 Axes>"
      ]
     },
     "metadata": {},
     "output_type": "display_data"
    }
   ],
   "source": [
    "min_idx = 237\n",
    "max_idx = 11277\n",
    "\n",
    "X_list = [X_all[min_idx].unsqueeze(0), X_all[max_idx].unsqueeze(0)]\n",
    "y_list = [y_all[min_idx].unsqueeze(0).unsqueeze(0), y_all[max_idx].unsqueeze(0).unsqueeze(0)]\n",
    "y_esm_list = [torch.tensor(np.reshape(y_esm_all[min_idx],[30,25], order=\"F\")),\n",
    "              torch.tensor(np.reshape(y_esm_all[max_idx],[30,25], order=\"F\"))]\n",
    "#plot_gdm(y_list[1])\n",
    "\n",
    "\n",
    "data = {\n",
    "        \"truth\": y_list,\n",
    "        \"decoder\": [decoder(x) for x in X_list],\n",
    "        \"esm\": y_esm_list,\n",
    "        #\"decoderdenoise\": [model_denoise(x.squeeze(1)) for x in X_list],\n",
    "        #\"kdm\": [kdm.calculate(x.squeeze()) for x in X_list],\n",
    "        #\"gmrf\": [gmrf.calculate(x.squeeze()) for x in X_list],\n",
    "        }\n",
    "\n",
    "fig, axes = plot_dict(data, [5,4]);"
   ]
  },
  {
   "cell_type": "code",
   "execution_count": null,
   "id": "783735d2-2a7d-4b3e-b0b4-f3046b3c6cca",
   "metadata": {},
   "outputs": [],
   "source": [
    "from utils import plot_dict\n",
    "\n",
    "X_list = [data_iter.next(), data_iter.next(), data_iter.next()]\n",
    "\n",
    "data = {\n",
    "        \"input\": X_list,\n",
    "        \"decoder\": [model(x.squeeze(1)) for x in X_list],\n",
    "        \"decoderdenoise\": [model_denoise(x.squeeze(1)) for x in X_list],\n",
    "        \"kdm\": [kdm.calculate(x.squeeze()) for x in X_list],\n",
    "        \"gmrf\": [gmrf.calculate(x.squeeze()) for x in X_list],\n",
    "        }\n",
    "\n",
    "fig, axes = plot_dict(data, [5,5]);"
   ]
  }
 ],
 "metadata": {
  "kernelspec": {
   "display_name": "Python 3 (ipykernel)",
   "language": "python",
   "name": "python3"
  },
  "language_info": {
   "codemirror_mode": {
    "name": "ipython",
    "version": 3
   },
   "file_extension": ".py",
   "mimetype": "text/x-python",
   "name": "python",
   "nbconvert_exporter": "python",
   "pygments_lexer": "ipython3",
   "version": "3.10.8"
  }
 },
 "nbformat": 4,
 "nbformat_minor": 5
}
