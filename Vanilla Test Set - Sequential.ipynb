{
 "cells": [
  {
   "cell_type": "markdown",
   "id": "65d9e98e-ca31-47c5-811d-13ba75bcb40c",
   "metadata": {},
   "source": [
    "Initiliaze and prepare all models"
   ]
  },
  {
   "cell_type": "code",
   "execution_count": 1,
   "id": "5cc6ee28-d34f-401b-abaf-8eae39d417da",
   "metadata": {},
   "outputs": [],
   "source": [
    "# Load model from checkpoint\n",
    "import torch\n",
    "import yaml\n",
    "from models.decoder import architectures\n",
    "\n",
    "with open(\"models/decoder/sequential_decoder_length6_params.yaml\") as file:\n",
    "    params = yaml.safe_load(file)\n",
    "\n",
    "#ckpt_file_path = \"models/decoder/sequential_decoder_6.ckpt\"\n",
    "#model = architectures.LightningDecoderNet.load_from_checkpoint(ckpt_file_path, \n",
    "#                                                               inner_dims=params[\"inner_dims\"], \n",
    "#                                                               seq_len=params[\"seq_len\"], \n",
    "#                                                               learning_rate=params[\"learning_rate\"])\n",
    "#torch.save(model.state_dict(), \"models/decoder/sequential_decoder_6.pth\")"
   ]
  },
  {
   "cell_type": "code",
   "execution_count": 2,
   "id": "831d662a-6e4a-491d-9b5e-cbaec4d6a2a9",
   "metadata": {},
   "outputs": [],
   "source": [
    "# ~~~~~~~~~~~~~~~~\n",
    "# PyTorch Model\n",
    "\n",
    "import torch\n",
    "import yaml\n",
    "from models.decoder import architectures\n",
    "\n",
    "with open(\"models/decoder/sequential_decoder_params.yaml\") as file:\n",
    "    params = yaml.safe_load(file)\n",
    "\n",
    "decoder = architectures.LightningDecoderNet(params[\"inner_dims\"], params[\"seq_len\"], params[\"learning_rate\"])\n",
    "decoder.load_state_dict(torch.load(\"models/decoder/sequential_decoder_length20.pth\"))\n",
    "decoder.eval();\n",
    "\n",
    "# ~~~~~~~~~~~~~~~~\n",
    "# ESM\n",
    "\n",
    "# To Do"
   ]
  },
  {
   "cell_type": "code",
   "execution_count": 12,
   "id": "9bb91357-9533-4796-82b4-0eb54947f63e",
   "metadata": {},
   "outputs": [],
   "source": [
    "import matplotlib.pyplot as plt\n",
    "\n",
    "def plot_gdm(data, ax=None, vmin=None, vmax=None):\n",
    "    if ax is None:\n",
    "        fig, ax = plt.subplots();\n",
    "        \n",
    "    ax.axis(\"off\");\n",
    "    return ax.imshow(data.squeeze().detach().numpy(), vmin=vmin, vmax=vmax)\n",
    "\n",
    "\n",
    "def plot_dict(input_dict, figsize=[5,5], cbar_base_col=0):\n",
    "    \"\"\" Plots the input of a dict. The dict should contain GDM data.\n",
    "    \n",
    "    Input:\n",
    "    input_dict: ...\n",
    "    figsize: ... (automatically in the future?)\n",
    "    cbar_base_col: Which col should be used as baseline vmin and vmax of plt.imshow.\n",
    "    \"\"\"\n",
    "    \n",
    "    rows = len(next(iter(input_dict.values())))\n",
    "    cols = len(input_dict)\n",
    "\n",
    "    fig, axes = plt.subplots(rows, len(input_dict), constrained_layout=True, figsize=figsize)  \n",
    "    \n",
    "    # Loop over rows (amount of samples)\n",
    "    for row in range(rows):\n",
    "        vmin=None\n",
    "        vmax=None\n",
    "\n",
    "        vmin = input_dict[list(input_dict.keys())[cbar_base_col]][row].min()\n",
    "        vmax = input_dict[list(input_dict.keys())[cbar_base_col]][row].max()   \n",
    "        \n",
    "        # Loop over cols (amount of models)\n",
    "        for col, i in zip(input_dict, range(cols)):\n",
    "            try:\n",
    "                # Try for multiple rows\n",
    "                plot_gdm(input_dict[col][row].squeeze(), axes[row][i], vmin=vmin, vmax=vmax);\n",
    "                if row == 0:\n",
    "                    axes[row][i].set_title(col)\n",
    "        \n",
    "            except:\n",
    "                # otherwise only single row\n",
    "                plot_gdm(input_dict[col][row].squeeze(), axes[i], vmin=vmin, vmax=vmax);\n",
    "                if row == 0:\n",
    "                    axes[i].set_title(col)\n",
    "    \n",
    "    return fig, axes"
   ]
  },
  {
   "cell_type": "markdown",
   "id": "863e1f89-0001-42b7-823e-353bb0526e53",
   "metadata": {},
   "source": [
    "### Data & Metrics"
   ]
  },
  {
   "cell_type": "markdown",
   "id": "cff9d927-c602-44a6-8131-a620048f3279",
   "metadata": {},
   "source": [
    "Specify data"
   ]
  },
  {
   "cell_type": "code",
   "execution_count": 3,
   "id": "e09be215-572c-464e-8294-d8dbf96406cf",
   "metadata": {},
   "outputs": [],
   "source": [
    "from torch.utils import data\n",
    "from data.gdm_dataset import GasDataSet\n",
    "\n",
    "dataset = GasDataSet(\"data/30x25/test.pt\", seq_len=20)"
   ]
  },
  {
   "cell_type": "code",
   "execution_count": 8,
   "id": "7a4bad58-3fa1-46d3-ba8c-5a1651ed8f51",
   "metadata": {},
   "outputs": [],
   "source": [
    "# Load data\n",
    "\n",
    "import pickle\n",
    "\n",
    "X_path = \"models/esm/X.pkl\"\n",
    "X_all = pickle.load(open(X_path, \"rb\"))\n",
    "\n",
    "y_path = \"models/esm/y.pkl\"\n",
    "y_all = pickle.load(open(y_path, \"rb\" ) )\n",
    "\n",
    "\n",
    "# Load ESM predictions\n",
    "\n",
    "from scipy.io import loadmat\n",
    "\n",
    "y_esm_path = \"models/esm/preds_bandwidth3_5_regDelay19.mat\"\n",
    "y_esm_all = loadmat(y_esm_path, verify_compressed_data_integrity=False)\n",
    "y_esm_all = y_esm_all[\"export\"]"
   ]
  },
  {
   "cell_type": "markdown",
   "id": "fc88ca43-a1c3-40ba-aca1-214a076826fb",
   "metadata": {},
   "source": [
    "Specify metrics"
   ]
  },
  {
   "cell_type": "code",
   "execution_count": 9,
   "id": "31bc2295-1248-4bae-9d9f-626583828ab5",
   "metadata": {},
   "outputs": [],
   "source": [
    "import gdm_metrics\n",
    "\n",
    "rmse = {\"decoder\": 0,\n",
    "        \"esm\": 0,\n",
    "        }\n",
    "\n",
    "kld = {\"decoder\": 0,\n",
    "       \"esm\": 0,\n",
    "       }"
   ]
  },
  {
   "cell_type": "markdown",
   "id": "fbd06c75-e4ea-4946-8641-b35abc2abb66",
   "metadata": {},
   "source": [
    "## Evaluation"
   ]
  },
  {
   "cell_type": "code",
   "execution_count": null,
   "id": "63ec30ac-f22a-439e-b306-41decf063d06",
   "metadata": {
    "tags": []
   },
   "outputs": [],
   "source": [
    "from tqdm import tqdm\n",
    "\n",
    "rmse = {\"decoder\": 0,\n",
    "        }\n",
    "\n",
    "kld = {\"decoder\": 0,\n",
    "       }\n",
    "\n",
    "\n",
    "dataloader = iter(data.DataLoader(dataset, shuffle=False, drop_last=True))\n",
    "\n",
    "for X, y in tqdm(dataloader):\n",
    "    with torch.no_grad(): \n",
    "        y_decoder = decoder(X.squeeze(2))\n",
    "        rmse[\"decoder\"] += gdm_metrics.rmse(y_decoder, y)\n",
    "        kld[\"decoder\"] += gdm_metrics.kld(y_decoder, y)\n",
    "            \n",
    "print(f\"########\\n# RMSE #\\n########\")\n",
    "for elem in rmse:\n",
    "    print(f\"{elem}: \\t {rmse[elem]/len(X_all)}\")\n",
    "    \n",
    "print(f\"########\\n# KL D #\\n########\")\n",
    "for elem in kld:\n",
    "    print(f\"{elem}: \\t {kld[elem]/len(X_all)}\")"
   ]
  },
  {
   "cell_type": "code",
   "execution_count": 10,
   "id": "a53d4667-6192-4d3e-9c73-56d49c3e1d9b",
   "metadata": {},
   "outputs": [],
   "source": [
    "Bandwidth: 3.5\n",
    "RegDelay: 19"
   ]
  },
  {
   "cell_type": "code",
   "execution_count": 11,
   "id": "b28fb82a-4a93-4066-ad08-c3b829b41d9d",
   "metadata": {},
   "outputs": [
    {
     "name": "stderr",
     "output_type": "stream",
     "text": [
      "100%|████████████████████████████████████| 30120/30120 [00:54<00:00, 550.89it/s]"
     ]
    },
    {
     "name": "stdout",
     "output_type": "stream",
     "text": [
      "########\n",
      "# RMSE #\n",
      "########\n",
      "decoder: \t 0.07328736037015915\n",
      "esm: \t 0.12451664358377457\n",
      "########\n",
      "# KL D #\n",
      "########\n",
      "decoder: \t 0.003549593733623624\n",
      "esm: \t 0.013556098565459251\n"
     ]
    },
    {
     "name": "stderr",
     "output_type": "stream",
     "text": [
      "\n"
     ]
    }
   ],
   "source": [
    "import numpy as np\n",
    "from tqdm import tqdm\n",
    "\n",
    "rmse = {\"decoder\": 0,\n",
    "        \"esm\": 0,\n",
    "        }\n",
    "\n",
    "kld = {\"decoder\": 0,\n",
    "       \"esm\": 0,\n",
    "       }\n",
    "\n",
    "for i in tqdm(range(len(X_all))):\n",
    "    X = X_all[i].unsqueeze(0)\n",
    "    y = y_all[i].unsqueeze(0).unsqueeze(0)\n",
    "    \n",
    "    with torch.no_grad(): \n",
    "        y_decoder = decoder(X)\n",
    "        rmse[\"decoder\"] += gdm_metrics.rmse(y_decoder, y)\n",
    "        kld[\"decoder\"] += gdm_metrics.kld(y_decoder, y) \n",
    "    \n",
    "    y_esm = torch.tensor(np.reshape(y_esm_all[i],[30,25], order=\"F\"))\n",
    "    y_esm = y_esm.unsqueeze(0).unsqueeze(0)\n",
    "    rmse[\"esm\"] += gdm_metrics.rmse(y_esm, y)\n",
    "    kld[\"esm\"] += gdm_metrics.kld(y_esm, y)\n",
    "    \n",
    "print(f\"########\\n# RMSE #\\n########\")\n",
    "for elem in rmse:\n",
    "    print(f\"{elem}: \\t {rmse[elem]/len(X_all)}\")\n",
    "    \n",
    "print(f\"########\\n# KL D #\\n########\")\n",
    "for elem in kld:\n",
    "    print(f\"{elem}: \\t {kld[elem]/len(X_all)}\")"
   ]
  },
  {
   "cell_type": "code",
   "execution_count": 14,
   "id": "f4b71e82-74e6-45a9-9ba2-a767175deb81",
   "metadata": {},
   "outputs": [
    {
     "data": {
      "image/png": "[encoded data removed]",
      "text/plain": [
       "<Figure size 800x400 with 69 Axes>"
      ]
     },
     "metadata": {},
     "output_type": "display_data"
    }
   ],
   "source": [
    "min_idx = 2137\n",
    "max_idx = 11277\n",
    "\n",
    "idxs = [2138,11277, 5278]\n",
    "\n",
    "X_list = [X_all[idxs[0]].unsqueeze(0), \n",
    "          X_all[idxs[1]].unsqueeze(0), \n",
    "          X_all[idxs[2]].unsqueeze(0)]\n",
    "y_list = [y_all[idxs[0]].unsqueeze(0).unsqueeze(0), \n",
    "          y_all[idxs[1]].unsqueeze(0).unsqueeze(0),\n",
    "          y_all[idxs[2]].unsqueeze(0).unsqueeze(0)]\n",
    "y_esm_list = [torch.tensor(np.reshape(y_esm_all[idxs[0]],[30,25], order=\"F\")),\n",
    "              torch.tensor(np.reshape(y_esm_all[idxs[1]],[30,25], order=\"F\")),\n",
    "              torch.tensor(np.reshape(y_esm_all[idxs[2]],[30,25], order=\"F\")),\n",
    "             ]\n",
    "\n",
    "\n",
    "import matplotlib.pyplot as plt\n",
    "\n",
    "\n",
    "\n",
    "fig = plt.figure(figsize=(8,4))\n",
    "widths = [3, 1, 1, 1]\n",
    "\n",
    "rows = len(X_list)\n",
    "\n",
    "outer_grid = fig.add_gridspec(rows, 4, wspace=0.2, width_ratios=widths)\n",
    "\n",
    "\n",
    "for row in range(rows):\n",
    "    yhat = decoder(X_list[row])\n",
    "    vmin = yhat.min().detach().numpy()\n",
    "    vmax = yhat.max().detach().numpy()\n",
    "    \n",
    "    # Add the two axes to create the \"broken\" axes\n",
    "    inner_grid = outer_grid[row, 0].subgridspec(ncols=10, nrows=2, wspace=0.2)\n",
    "    ax1 = inner_grid.subplots()\n",
    "\n",
    "    img_i = 0\n",
    "    for xrow in ax1:\n",
    "        for xcol in xrow:\n",
    "            xcol.imshow(X_list[row].squeeze()[img_i], vmin=vmin, vmax=vmax)\n",
    "            xcol.axis('off')\n",
    "            img_i += 1\n",
    "\n",
    "    # Truth\n",
    "    ax2 = fig.add_subplot(outer_grid[row, 1])\n",
    "    ax2.imshow(y_list[row].squeeze(), vmin=vmin, vmax=vmax)\n",
    "    ax2.axis('off')\n",
    "\n",
    "    # Decoder\n",
    "    ax3 = fig.add_subplot(outer_grid[row, 2])\n",
    "    ax3.imshow(decoder(X_list[row]).squeeze().detach().numpy(), vmin=vmin, vmax=vmax)\n",
    "    ax3.axis('off')\n",
    "\n",
    "    # ESM\n",
    "    ax4 = fig.add_subplot(outer_grid[row, 3])\n",
    "    ax4.imshow(y_esm_list[row], vmin=vmin, vmax=vmax)\n",
    "    ax4.axis('off')\n",
    "\n",
    "#plt.show()\n",
    "\n",
    "import matplotlib as mpl\n",
    "\n",
    "mpl.rcParams.update({\n",
    "    \"pgf.texsystem\": \"pdflatex\",\n",
    "    'font.family': 'serif',\n",
    "    'font.size' : '5',\n",
    "    #'text.usetex': True,\n",
    "    'pgf.rcfonts': False,\n",
    "})\n",
    "\n",
    "mpl.pyplot.savefig(\"pgf/sequential-pred/sequential-pred.pgf\", bbox_inches='tight', facecolor=\"w\", pad_inches=0, dpi=500)"
   ]
  },
  {
   "cell_type": "markdown",
   "id": "6d5bd3bd-3c51-46e8-a756-3d43071cb42e",
   "metadata": {},
   "source": [
    "Bandwidth: 2.5\n",
    "RegDelay: 15"
   ]
  },
  {
   "cell_type": "code",
   "execution_count": 8,
   "id": "3a8fda30-a5dc-42f2-b4b5-b2cab2c9991f",
   "metadata": {},
   "outputs": [
    {
     "name": "stderr",
     "output_type": "stream",
     "text": [
      "100%|████████████████████████████████████| 30120/30120 [00:58<00:00, 519.17it/s]"
     ]
    },
    {
     "name": "stdout",
     "output_type": "stream",
     "text": [
      "########\n",
      "# RMSE #\n",
      "########\n",
      "decoder: \t 0.07328736037015915\n",
      "esm: \t 0.18055082857608795\n",
      "########\n",
      "# KL D #\n",
      "########\n",
      "decoder: \t 0.003549593733623624\n",
      "esm: \t 0.12693370878696442\n"
     ]
    },
    {
     "name": "stderr",
     "output_type": "stream",
     "text": [
      "\n"
     ]
    }
   ],
   "source": [
    "import numpy as np\n",
    "from tqdm import tqdm\n",
    "\n",
    "rmse = {\"decoder\": 0,\n",
    "        \"esm\": 0,\n",
    "        }\n",
    "\n",
    "kld = {\"decoder\": 0,\n",
    "       \"esm\": 0,\n",
    "       }\n",
    "\n",
    "for i in tqdm(range(len(X_all))):\n",
    "    X = X_all[i].unsqueeze(0)\n",
    "    y = y_all[i].unsqueeze(0).unsqueeze(0)\n",
    "    \n",
    "    with torch.no_grad(): \n",
    "        y_decoder = decoder(X)\n",
    "        rmse[\"decoder\"] += gdm_metrics.rmse(y_decoder, y)\n",
    "        kld[\"decoder\"] += gdm_metrics.kld(y_decoder, y) \n",
    "    \n",
    "    y_esm = torch.tensor(np.reshape(y_esm_all[i],[30,25], order=\"F\"))\n",
    "    y_esm = y_esm.unsqueeze(0).unsqueeze(0)\n",
    "    rmse[\"esm\"] += gdm_metrics.rmse(y_esm, y)\n",
    "    kld[\"esm\"] += gdm_metrics.kld(y_esm, y)\n",
    "    \n",
    "print(f\"########\\n# RMSE #\\n########\")\n",
    "for elem in rmse:\n",
    "    print(f\"{elem}: \\t {rmse[elem]/len(X_all)}\")\n",
    "    \n",
    "print(f\"########\\n# KL D #\\n########\")\n",
    "for elem in kld:\n",
    "    print(f\"{elem}: \\t {kld[elem]/len(X_all)}\")"
   ]
  },
  {
   "cell_type": "code",
   "execution_count": 7,
   "id": "caa85295-2fa1-4581-b111-4336e8a98588",
   "metadata": {},
   "outputs": [],
   "source": [
    "i = 1000\n",
    "\n",
    "X = X_all[i].unsqueeze(0)\n",
    "y = y_all[i].unsqueeze(0).unsqueeze(0)\n",
    "y_esm = torch.tensor(np.reshape(y_esm_all[i],[30,25], order=\"F\"))\n",
    "y_esm = y_esm.unsqueeze(0).unsqueeze(0)"
   ]
  },
  {
   "cell_type": "code",
   "execution_count": 10,
   "id": "11231ead-3cde-4473-af43-a420cbc9938a",
   "metadata": {},
   "outputs": [
    {
     "data": {
      "image/png": "[encoded data removed]",
      "text/plain": [
       "<Figure size 500x400 with 6 Axes>"
      ]
     },
     "metadata": {},
     "output_type": "display_data"
    }
   ],
   "source": [
    "min_idx = 2137\n",
    "max_idx = 11277\n",
    "\n",
    "X_list = [X_all[min_idx].unsqueeze(0), X_all[max_idx].unsqueeze(0)]\n",
    "y_list = [y_all[min_idx].unsqueeze(0).unsqueeze(0), y_all[max_idx].unsqueeze(0).unsqueeze(0)]\n",
    "y_esm_list = [torch.tensor(np.reshape(y_esm_all[min_idx],[30,25], order=\"F\")),\n",
    "              torch.tensor(np.reshape(y_esm_all[max_idx],[30,25], order=\"F\"))]\n",
    "#plot_gdm(y_list[1])\n",
    "\n",
    "\n",
    "data = {\n",
    "        \"truth\": y_list,\n",
    "        \"decoder\": [decoder(x) for x in X_list],\n",
    "        \"esm\": y_esm_list,\n",
    "        #\"decoderdenoise\": [model_denoise(x.squeeze(1)) for x in X_list],\n",
    "        #\"kdm\": [kdm.calculate(x.squeeze()) for x in X_list],\n",
    "        #\"gmrf\": [gmrf.calculate(x.squeeze()) for x in X_list],\n",
    "        }\n",
    "\n",
    "fig, axes = plot_dict(data, [5,4]);"
   ]
  },
  {
   "cell_type": "code",
   "execution_count": 10,
   "id": "b549a267-13b5-4809-a973-e6c61023f8b6",
   "metadata": {},
   "outputs": [
    {
     "data": {
      "image/png": "[encoded data removed]",
      "text/plain": [
       "<Figure size 500x400 with 6 Axes>"
      ]
     },
     "metadata": {},
     "output_type": "display_data"
    }
   ],
   "source": [
    "min_idx = 2137\n",
    "max_idx = 11277\n",
    "\n",
    "X_list = [X_all[min_idx].unsqueeze(0), X_all[max_idx].unsqueeze(0)]\n",
    "y_list = [y_all[min_idx].unsqueeze(0).unsqueeze(0), y_all[max_idx].unsqueeze(0).unsqueeze(0)]\n",
    "y_esm_list = [torch.tensor(np.reshape(y_esm_all[min_idx],[30,25], order=\"F\")),\n",
    "              torch.tensor(np.reshape(y_esm_all[max_idx],[30,25], order=\"F\"))]\n",
    "#plot_gdm(y_list[1])\n",
    "\n",
    "\n",
    "data = {\n",
    "        \"truth\": y_list,\n",
    "        \"decoder\": [decoder(x) for x in X_list],\n",
    "        \"esm\": y_esm_list,\n",
    "        #\"decoderdenoise\": [model_denoise(x.squeeze(1)) for x in X_list],\n",
    "        #\"kdm\": [kdm.calculate(x.squeeze()) for x in X_list],\n",
    "        #\"gmrf\": [gmrf.calculate(x.squeeze()) for x in X_list],\n",
    "        }\n",
    "\n",
    "fig, axes = plot_dict(data, [5,4]);"
   ]
  },
  {
   "cell_type": "code",
   "execution_count": null,
   "id": "e2084f98-2e20-4b4c-b2c3-9901c0bd4a5f",
   "metadata": {},
   "outputs": [],
   "source": []
  },
  {
   "cell_type": "code",
   "execution_count": null,
   "id": "c53fc61c-063c-457b-99ce-06c3c3558e3f",
   "metadata": {},
   "outputs": [],
   "source": []
  },
  {
   "cell_type": "code",
   "execution_count": 11,
   "id": "30e27d21-56f3-4dd1-8862-05340e15c8de",
   "metadata": {},
   "outputs": [
    {
     "data": {
      "image/png": "[encoded data removed]",
      "text/plain": [
       "<Figure size 800x400 with 69 Axes>"
      ]
     },
     "metadata": {},
     "output_type": "display_data"
    }
   ],
   "source": [
    "min_idx = 2137\n",
    "max_idx = 11277\n",
    "\n",
    "idxs = [2138,11277, 5278]\n",
    "\n",
    "X_list = [X_all[idxs[0]].unsqueeze(0), \n",
    "          X_all[idxs[1]].unsqueeze(0), \n",
    "          X_all[idxs[2]].unsqueeze(0)]\n",
    "y_list = [y_all[idxs[0]].unsqueeze(0).unsqueeze(0), \n",
    "          y_all[idxs[1]].unsqueeze(0).unsqueeze(0),\n",
    "          y_all[idxs[2]].unsqueeze(0).unsqueeze(0)]\n",
    "y_esm_list = [torch.tensor(np.reshape(y_esm_all[idxs[0]],[30,25], order=\"F\")),\n",
    "              torch.tensor(np.reshape(y_esm_all[idxs[1]],[30,25], order=\"F\")),\n",
    "              torch.tensor(np.reshape(y_esm_all[idxs[2]],[30,25], order=\"F\")),\n",
    "             ]\n",
    "\n",
    "\n",
    "import matplotlib.pyplot as plt\n",
    "\n",
    "\n",
    "\n",
    "fig = plt.figure(figsize=(8,4))\n",
    "widths = [3, 1, 1, 1]\n",
    "\n",
    "rows = len(X_list)\n",
    "\n",
    "outer_grid = fig.add_gridspec(rows, 4, wspace=0.2, width_ratios=widths)\n",
    "\n",
    "\n",
    "for row in range(rows):\n",
    "    yhat = decoder(X_list[row])\n",
    "    vmin = yhat.min().detach().numpy()\n",
    "    vmax = yhat.max().detach().numpy()\n",
    "    \n",
    "    # Add the two axes to create the \"broken\" axes\n",
    "    inner_grid = outer_grid[row, 0].subgridspec(ncols=10, nrows=2, wspace=0.2)\n",
    "    ax1 = inner_grid.subplots()\n",
    "\n",
    "    img_i = 0\n",
    "    for xrow in ax1:\n",
    "        for xcol in xrow:\n",
    "            xcol.imshow(X_list[row].squeeze()[img_i], vmin=vmin, vmax=vmax)\n",
    "            xcol.axis('off')\n",
    "            img_i += 1\n",
    "\n",
    "    # Truth\n",
    "    ax2 = fig.add_subplot(outer_grid[row, 1])\n",
    "    ax2.imshow(y_list[row].squeeze(), vmin=vmin, vmax=vmax)\n",
    "    ax2.axis('off')\n",
    "\n",
    "    # Decoder\n",
    "    ax3 = fig.add_subplot(outer_grid[row, 2])\n",
    "    ax3.imshow(decoder(X_list[row]).squeeze().detach().numpy(), vmin=vmin, vmax=vmax)\n",
    "    ax3.axis('off')\n",
    "\n",
    "    # ESM\n",
    "    ax4 = fig.add_subplot(outer_grid[row, 3])\n",
    "    ax4.imshow(y_esm_list[row], vmin=vmin, vmax=vmax)\n",
    "    ax4.axis('off')\n",
    "\n",
    "#plt.show()\n",
    "\n",
    "import matplotlib as mpl\n",
    "\n",
    "mpl.rcParams.update({\n",
    "    \"pgf.texsystem\": \"pdflatex\",\n",
    "    'font.family': 'serif',\n",
    "    'font.size' : '5',\n",
    "    #'text.usetex': True,\n",
    "    'pgf.rcfonts': False,\n",
    "})\n",
    "\n",
    "mpl.pyplot.savefig(\"pgf/sequential-pred/sequential-pred.pgf\", bbox_inches='tight', facecolor=\"w\", pad_inches=0, dpi=500)"
   ]
  },
  {
   "cell_type": "code",
   "execution_count": 12,
   "id": "0d04bc3a-a8ae-414c-b789-fadfa1bf8417",
   "metadata": {},
   "outputs": [
    {
     "data": {
      "image/png": "[encoded data removed]",
      "text/plain": [
       "<Figure size 800x400 with 69 Axes>"
      ]
     },
     "metadata": {},
     "output_type": "display_data"
    }
   ],
   "source": [
    "min_idx = 2137\n",
    "max_idx = 11277\n",
    "\n",
    "idxs = [2138,11277, 5278]\n",
    "\n",
    "X_list = [X_all[idxs[0]].unsqueeze(0), \n",
    "          X_all[idxs[1]].unsqueeze(0), \n",
    "          X_all[idxs[2]].unsqueeze(0)]\n",
    "y_list = [y_all[idxs[0]].unsqueeze(0).unsqueeze(0), \n",
    "          y_all[idxs[1]].unsqueeze(0).unsqueeze(0),\n",
    "          y_all[idxs[2]].unsqueeze(0).unsqueeze(0)]\n",
    "y_esm_list = [torch.tensor(np.reshape(y_esm_all[idxs[0]],[30,25], order=\"F\")),\n",
    "              torch.tensor(np.reshape(y_esm_all[idxs[1]],[30,25], order=\"F\")),\n",
    "              torch.tensor(np.reshape(y_esm_all[idxs[2]],[30,25], order=\"F\")),\n",
    "             ]\n",
    "\n",
    "\n",
    "import matplotlib.pyplot as plt\n",
    "\n",
    "\n",
    "\n",
    "fig = plt.figure(figsize=(8,4))\n",
    "widths = [3, 1, 1, 1]\n",
    "\n",
    "rows = len(X_list)\n",
    "\n",
    "outer_grid = fig.add_gridspec(rows, 4, wspace=0.2, width_ratios=widths)\n",
    "\n",
    "\n",
    "for row in range(rows):\n",
    "    yhat = decoder(X_list[row])\n",
    "    vmin = yhat.min().detach().numpy()\n",
    "    vmax = yhat.max().detach().numpy()\n",
    "    \n",
    "    # Add the two axes to create the \"broken\" axes\n",
    "    inner_grid = outer_grid[row, 0].subgridspec(ncols=10, nrows=2, wspace=0.2)\n",
    "    ax1 = inner_grid.subplots()\n",
    "\n",
    "    img_i = 0\n",
    "    for xrow in ax1:\n",
    "        for xcol in xrow:\n",
    "            xcol.imshow(X_list[row].squeeze()[img_i], vmin=vmin, vmax=vmax)\n",
    "            xcol.axis('off')\n",
    "            img_i += 1\n",
    "\n",
    "    # Truth\n",
    "    ax2 = fig.add_subplot(outer_grid[row, 1])\n",
    "    ax2.imshow(y_list[row].squeeze(), vmin=vmin, vmax=vmax)\n",
    "    ax2.axis('off')\n",
    "\n",
    "    # Decoder\n",
    "    ax3 = fig.add_subplot(outer_grid[row, 2])\n",
    "    ax3.imshow(decoder(X_list[row]).squeeze().detach().numpy(), vmin=vmin, vmax=vmax)\n",
    "    ax3.axis('off')\n",
    "\n",
    "    # ESM\n",
    "    ax4 = fig.add_subplot(outer_grid[row, 3])\n",
    "    ax4.imshow(y_esm_list[row], vmin=vmin, vmax=vmax)\n",
    "    ax4.axis('off')\n",
    "\n",
    "#plt.show()\n",
    "\n",
    "import matplotlib as mpl\n",
    "\n",
    "mpl.rcParams.update({\n",
    "    \"pgf.texsystem\": \"pdflatex\",\n",
    "    'font.family': 'serif',\n",
    "    'font.size' : '5',\n",
    "    #'text.usetex': True,\n",
    "    'pgf.rcfonts': False,\n",
    "})\n",
    "\n",
    "mpl.pyplot.savefig(\"pgf/sequential-pred/sequential-pred.pgf\", bbox_inches='tight', facecolor=\"w\", pad_inches=0, dpi=500)"
   ]
  },
  {
   "cell_type": "code",
   "execution_count": null,
   "id": "cd4c257a-2de3-4e25-ba22-7f5d1c121a7d",
   "metadata": {},
   "outputs": [],
   "source": []
  },
  {
   "cell_type": "code",
   "execution_count": 16,
   "id": "51266a4f-4fcc-417c-9698-38578c560af0",
   "metadata": {},
   "outputs": [
    {
     "name": "stdout",
     "output_type": "stream",
     "text": [
      "0\n",
      "1\n",
      "2\n",
      "3\n",
      "4\n",
      "5\n",
      "6\n",
      "7\n",
      "8\n",
      "9\n",
      "10\n",
      "11\n",
      "12\n",
      "13\n",
      "14\n",
      "15\n",
      "16\n",
      "17\n",
      "18\n",
      "19\n"
     ]
    },
    {
     "data": {
      "image/png": "[encoded data removed]",
      "text/plain": [
       "<Figure size 1000x500 with 2 Axes>"
      ]
     },
     "metadata": {},
     "output_type": "display_data"
    }
   ],
   "source": [
    "import matplotlib.pyplot as plt\n",
    "\n",
    "# Create a figure with 2 subplots\n",
    "fig, (ax1, ax2) = plt.subplots(1, 2, figsize=(10, 5))\n",
    "\n",
    "# Plot the 5x4 grid of subplots on the left\n",
    "for i in range(20):\n",
    "    print(i)\n",
    "    ax1.imshow(tmp_X[i], vmin=0, vmax=1)\n",
    "    plt.axis('off')\n",
    "\n",
    "# Plot the 30x25 image on the right\n",
    "ax2.imshow(tmp_y, vmin=0, vmax=1)\n",
    "plt.axis('off')\n",
    "\n",
    "# Display the plot\n",
    "plt.show()"
   ]
  },
  {
   "cell_type": "code",
   "execution_count": null,
   "id": "553ee23e-3860-4299-95ec-6924f320fe04",
   "metadata": {},
   "outputs": [],
   "source": [
    "import matplotlib as mpl\n",
    "\n",
    "mpl.rcParams.update({\n",
    "    \"pgf.texsystem\": \"pdflatex\",\n",
    "    'font.family': 'serif',\n",
    "    'font.size' : '5',\n",
    "    #'text.usetex': True,\n",
    "    'pgf.rcfonts': False,\n",
    "})\n",
    "\n",
    "mpl.pyplot.savefig(\"pgf/sequential-pred/sequential-pred.pgf\", bbox_inches='tight', facecolor=\"w\", pad_inches=0, dpi=500)"
   ]
  },
  {
   "cell_type": "code",
   "execution_count": null,
   "id": "783735d2-2a7d-4b3e-b0b4-f3046b3c6cca",
   "metadata": {},
   "outputs": [],
   "source": [
    "from utils import plot_dict\n",
    "\n",
    "X_list = [data_iter.next(), data_iter.next(), data_iter.next()]\n",
    "\n",
    "data = {\n",
    "        \"input\": X_list,\n",
    "        \"decoder\": [model(x.squeeze(1)) for x in X_list],\n",
    "        \"decoderdenoise\": [model_denoise(x.squeeze(1)) for x in X_list],\n",
    "        \"kdm\": [kdm.calculate(x.squeeze()) for x in X_list],\n",
    "        \"gmrf\": [gmrf.calculate(x.squeeze()) for x in X_list],\n",
    "        }\n",
    "\n",
    "fig, axes = plot_dict(data, [5,5]);"
   ]
  }
 ],
 "metadata": {
  "kernelspec": {
   "display_name": "Python 3 (ipykernel)",
   "language": "python",
   "name": "python3"
  },
  "language_info": {
   "codemirror_mode": {
    "name": "ipython",
    "version": 3
   },
   "file_extension": ".py",
   "mimetype": "text/x-python",
   "name": "python",
   "nbconvert_exporter": "python",
   "pygments_lexer": "ipython3",
   "version": "3.10.9"
  }
 },
 "nbformat": 4,
 "nbformat_minor": 5
}
