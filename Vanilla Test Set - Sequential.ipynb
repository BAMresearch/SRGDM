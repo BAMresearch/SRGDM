{
 "cells": [
  {
   "cell_type": "markdown",
   "id": "65d9e98e-ca31-47c5-811d-13ba75bcb40c",
   "metadata": {},
   "source": [
    "Initiliaze and prepare all models"
   ]
  },
  {
   "cell_type": "code",
   "execution_count": 1,
   "id": "831d662a-6e4a-491d-9b5e-cbaec4d6a2a9",
   "metadata": {},
   "outputs": [],
   "source": [
    "# ~~~~~~~~~~~~~~~~\n",
    "# PyTorch Model\n",
    "\n",
    "import torch\n",
    "import yaml\n",
    "from models.decoder import architectures\n",
    "\n",
    "with open(\"models/decoder/sequential_decoder_params.yaml\") as file:\n",
    "    params = yaml.safe_load(file)\n",
    "\n",
    "decoder = architectures.LightningNet(params[\"inner_dims\"], params[\"seq_len\"], params[\"learning_rate\"])\n",
    "decoder.load_state_dict(torch.load(\"models/decoder/sequential_decoder_length20.pth\"))\n",
    "decoder.eval();\n",
    "\n",
    "# ~~~~~~~~~~~~~~~~\n",
    "# ESM\n",
    "\n",
    "# To Do"
   ]
  },
  {
   "cell_type": "markdown",
   "id": "863e1f89-0001-42b7-823e-353bb0526e53",
   "metadata": {},
   "source": [
    "### Data & Metrics"
   ]
  },
  {
   "cell_type": "markdown",
   "id": "cff9d927-c602-44a6-8131-a620048f3279",
   "metadata": {},
   "source": [
    "Specify data"
   ]
  },
  {
   "cell_type": "code",
   "execution_count": 2,
   "id": "e09be215-572c-464e-8294-d8dbf96406cf",
   "metadata": {},
   "outputs": [],
   "source": [
    "from torch.utils import data\n",
    "from data.gdm_dataset import GasDataSet\n",
    "\n",
    "dataset = GasDataSet(\"data/30x25/test.pt\", seq_len=20)"
   ]
  },
  {
   "cell_type": "markdown",
   "id": "fc88ca43-a1c3-40ba-aca1-214a076826fb",
   "metadata": {},
   "source": [
    "Specify metrics"
   ]
  },
  {
   "cell_type": "code",
   "execution_count": 3,
   "id": "31bc2295-1248-4bae-9d9f-626583828ab5",
   "metadata": {},
   "outputs": [],
   "source": [
    "import gdm_metrics\n",
    "\n",
    "rmse = {\"decoder\": 0,\n",
    "        }\n",
    "\n",
    "kld = {\"decoder\": 0,\n",
    "       }"
   ]
  },
  {
   "cell_type": "markdown",
   "id": "fbd06c75-e4ea-4946-8641-b35abc2abb66",
   "metadata": {},
   "source": [
    "### Run"
   ]
  },
  {
   "cell_type": "code",
   "execution_count": 4,
   "id": "63ec30ac-f22a-439e-b306-41decf063d06",
   "metadata": {
    "tags": []
   },
   "outputs": [
    {
     "name": "stderr",
     "output_type": "stream",
     "text": [
      "100%|████████████████████████████████████| 30120/30120 [03:38<00:00, 138.01it/s]\n"
     ]
    }
   ],
   "source": [
    "from tqdm import tqdm\n",
    "\n",
    "list_of_models = [\n",
    "                  \"decoder\",\n",
    "                 ]\n",
    "\n",
    "dataloader = iter(data.DataLoader(dataset, shuffle=False, drop_last=True))\n",
    "\n",
    "for X, y in tqdm(dataloader):\n",
    "    with torch.no_grad(): \n",
    "        if \"decoder\" in list_of_models:\n",
    "            y_decoder = decoder(X.squeeze(2))\n",
    "            rmse[\"decoder\"] += gdm_metrics.rmse(y_decoder, y)\n",
    "            kld[\"decoder\"] += gdm_metrics.kld(y_decoder, y)"
   ]
  },
  {
   "cell_type": "markdown",
   "id": "cceace21-8221-4de7-9998-16bda446c348",
   "metadata": {},
   "source": [
    "### Evaluation"
   ]
  },
  {
   "cell_type": "code",
   "execution_count": 5,
   "id": "6d920588-43a5-4e1e-bdce-247a73b0a159",
   "metadata": {},
   "outputs": [
    {
     "name": "stdout",
     "output_type": "stream",
     "text": [
      "########\n",
      "# RMSE #\n",
      "########\n",
      "decoder: \t 0.07327050715684891\n",
      "########\n",
      "# KL D #\n",
      "########\n",
      "decoder: \t 0.003545727115124464\n"
     ]
    }
   ],
   "source": [
    "# Print results\n",
    "print(f\"########\\n# RMSE #\\n########\")\n",
    "for elem in rmse:\n",
    "    print(f\"{elem}: \\t {rmse[elem]/len(dataloader)}\")\n",
    "    \n",
    "print(f\"########\\n# KL D #\\n########\")\n",
    "for elem in kld:\n",
    "    print(f\"{elem}: \\t {kld[elem]/len(dataloader)}\")"
   ]
  },
  {
   "cell_type": "code",
   "execution_count": null,
   "id": "4b1ea675-4baa-4027-b9aa-4c0e1b28d742",
   "metadata": {},
   "outputs": [],
   "source": []
  }
 ],
 "metadata": {
  "kernelspec": {
   "display_name": "Python 3 (ipykernel)",
   "language": "python",
   "name": "python3"
  },
  "language_info": {
   "codemirror_mode": {
    "name": "ipython",
    "version": 3
   },
   "file_extension": ".py",
   "mimetype": "text/x-python",
   "name": "python",
   "nbconvert_exporter": "python",
   "pygments_lexer": "ipython3",
   "version": "3.10.6"
  }
 },
 "nbformat": 4,
 "nbformat_minor": 5
}
