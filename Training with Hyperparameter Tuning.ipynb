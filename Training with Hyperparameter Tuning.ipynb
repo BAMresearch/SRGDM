{
 "cells": [
  {
   "cell_type": "markdown",
   "id": "b5456689-df5f-4d2f-9889-c09121de9a7d",
   "metadata": {},
   "source": [
    "Parameters that are not tuned during training. The hyperparameter that should be tuned are within optunas objective() function."
   ]
  },
  {
   "cell_type": "code",
   "execution_count": 1,
   "id": "ac5a4025-d21b-4a3a-b628-15e56f425c4c",
   "metadata": {},
   "outputs": [],
   "source": [
    "BATCH_SIZE = 30\n",
    "EPOCHS = 50\n",
    "NUM_WORKERS = 2 # number of CPUs used\n",
    "NTH_FRAME = 2\n",
    "SLIDING_STEP = 1\n",
    "SEQ_LEN = 1\n",
    "\n",
    "DIR = \"data/30x25/\""
   ]
  },
  {
   "cell_type": "code",
   "execution_count": 2,
   "id": "3cb70737-cf3d-436b-bae2-448b24957112",
   "metadata": {},
   "outputs": [
    {
     "name": "stderr",
     "output_type": "stream",
     "text": [
      "/home/nicolas/miniconda3/envs/torch/lib/python3.10/site-packages/optuna/progress_bar.py:49: ExperimentalWarning: Progress bar is experimental (supported from v1.2.0). The interface can change in the future.\n",
      "  self._init_valid()\n"
     ]
    },
    {
     "data": {
      "application/vnd.jupyter.widget-view+json": {
       "model_id": "8e8c3dbb6c604f4fa6df98e6e0a96fa6",
       "version_major": 2,
       "version_minor": 0
      },
      "text/plain": [
       "  0%|          | 0/1 [00:00<?, ?it/s]"
      ]
     },
     "metadata": {},
     "output_type": "display_data"
    },
    {
     "name": "stderr",
     "output_type": "stream",
     "text": [
      "GPU available: False, used: False\n",
      "TPU available: False, using: 0 TPU cores\n",
      "IPU available: False, using: 0 IPUs\n",
      "HPU available: False, using: 0 HPUs\n",
      "Running in `fast_dev_run` mode: will run the requested loop using 1 batch(es). Logging and checkpointing is suppressed.\n",
      "/home/nicolas/miniconda3/envs/torch/lib/python3.10/site-packages/pytorch_lightning/trainer/connectors/data_connector.py:236: PossibleUserWarning: The dataloader, train_dataloader, does not have many workers which may be a bottleneck. Consider increasing the value of the `num_workers` argument` (try 8 which is the number of cpus on this machine) in the `DataLoader` init to improve performance.\n",
      "  rank_zero_warn(\n",
      "/home/nicolas/miniconda3/envs/torch/lib/python3.10/site-packages/pytorch_lightning/trainer/trainer.py:1892: PossibleUserWarning: The number of training batches (1) is smaller than the logging interval Trainer(log_every_n_steps=50). Set a lower value for log_every_n_steps if you want to see logs for the training epoch.\n",
      "  rank_zero_warn(\n",
      "/home/nicolas/miniconda3/envs/torch/lib/python3.10/site-packages/pytorch_lightning/trainer/connectors/data_connector.py:236: PossibleUserWarning: The dataloader, val_dataloader 0, does not have many workers which may be a bottleneck. Consider increasing the value of the `num_workers` argument` (try 8 which is the number of cpus on this machine) in the `DataLoader` init to improve performance.\n",
      "  rank_zero_warn(\n",
      "`Trainer.fit` stopped: `max_steps=1` reached.\n"
     ]
    }
   ],
   "source": [
    "import optuna\n",
    "from optuna.integration import PyTorchLightningPruningCallback\n",
    "\n",
    "import torch\n",
    "import pytorch_lightning as pl\n",
    "\n",
    "from models.decoder.architectures import LightningNet\n",
    "from data.gdm_dataset import GasDataModule\n",
    "\n",
    "def objective(trial):\n",
    "    num_layers = 5\n",
    "    learning_rate = trial.suggest_float(\"lr\", 1e-5, 1e-2)\n",
    "    inner_dims = [trial.suggest_int(\"inner_dims_{}\".format(i), 3, 256, log=True) for i in range(num_layers)]\n",
    "\n",
    "    model = LightningNet(inner_dims, SEQ_LEN, learning_rate)\n",
    "    datamodule = GasDataModule(data_dir=DIR, seq_len=SEQ_LEN, nth_frame=NTH_FRAME, batch_size=BATCH_SIZE, num_workers=NUM_WORKERS)\n",
    "    \n",
    "    tb_logger = pl.loggers.TensorBoardLogger(\n",
    "        save_dir=\"logs\", \n",
    "        name=\"decoder\",\n",
    "        #version=\n",
    "    )\n",
    "    trainer = pl.Trainer(\n",
    "        logger = tb_logger,\n",
    "        min_epochs = int(EPOCHS/2),\n",
    "        max_epochs = EPOCHS,\n",
    "        gpus=1 if torch.cuda.is_available() else None,\n",
    "        #callbacks=[PyTorchLightningPruningCallback(trial, monitor=\"val_loss\")],\n",
    "        enable_progress_bar=False,\n",
    "        enable_model_summary=False,\n",
    "        fast_dev_run=True # set to False, if model should be trained\n",
    "    )\n",
    "    \n",
    "    trainer.fit(model, datamodule=datamodule)\n",
    "    \n",
    "    return trainer.callback_metrics[\"val_loss\"].item()\n",
    "\n",
    "\n",
    "optuna.logging.set_verbosity(optuna.logging.ERROR)\n",
    "\n",
    "study = optuna.create_study(direction=\"minimize\")\n",
    "study.optimize(objective, n_trials=1, show_progress_bar=True)"
   ]
  },
  {
   "cell_type": "code",
   "execution_count": null,
   "id": "494a2a7c-8126-4df5-96ae-05e4e3f91743",
   "metadata": {},
   "outputs": [],
   "source": []
  }
 ],
 "metadata": {
  "kernelspec": {
   "display_name": "Python 3 (ipykernel)",
   "language": "python",
   "name": "python3"
  },
  "language_info": {
   "codemirror_mode": {
    "name": "ipython",
    "version": 3
   },
   "file_extension": ".py",
   "mimetype": "text/x-python",
   "name": "python",
   "nbconvert_exporter": "python",
   "pygments_lexer": "ipython3",
   "version": "3.10.6"
  }
 },
 "nbformat": 4,
 "nbformat_minor": 5
}
