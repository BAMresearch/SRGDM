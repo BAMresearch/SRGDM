{
 "cells": [
  {
   "cell_type": "markdown",
   "id": "01520ba8-4507-4cee-84d6-7ab9f86d7ecb",
   "metadata": {},
   "source": [
    "All evaluation results are pooled here.\n",
    "\n",
    "**IMPORTANT:** RMSE was calculated wrong"
   ]
  },
  {
   "cell_type": "markdown",
   "id": "02340692-9042-437c-bd7b-0a2b11cc5459",
   "metadata": {},
   "source": [
    "## Vanilla Test Set"
   ]
  },
  {
   "cell_type": "markdown",
   "id": "43871b1c-5d41-4bd8-a1ec-5714b2aae3fb",
   "metadata": {},
   "source": [
    "### Non-Sequential Models"
   ]
  },
  {
   "cell_type": "markdown",
   "id": "d04173d2-31cd-49c7-9a2a-6f1bd03ee6d8",
   "metadata": {},
   "source": [
    "[Link to Notebook](Vanilla%20Test%20Set.ipynb)\n",
    "\n",
    "|                | RMSE   | KLD |\n",
    "|----------------|--------|-----|\n",
    "| Decoder        | 12.71 | 0.003249 |\n",
    "| DenoiseDecoder | 13.16 | 0.003500 |\n",
    "| GMRF           | 19.98 | 0.008398 |\n",
    "| Kernel DM+V    | 20.12 | 0.008163 |\n"
   ]
  },
  {
   "cell_type": "markdown",
   "id": "d953432f-4999-4909-a186-a4500fddd6e5",
   "metadata": {},
   "source": [
    "### Sequential Models"
   ]
  },
  {
   "cell_type": "markdown",
   "id": "aa0b6fc7-6159-4dea-a0e7-aa4207b33879",
   "metadata": {},
   "source": [
    "[Link to Notebook](Vanilla%20Test%20Set%20-%20Sequential.ipynb)\n",
    "\n",
    "|                    | RMSE   | KLD        |\n",
    "|--------------------|--------|------------|\n",
    "| Sequential Decoder | 12.72 | 0.00354572  |\n",
    "| Echo State Map     | 24.44 | 1.6828e-05 |\n",
    "| Decoder-ConvLSTM   | 22.76 | 1.6828e-05 |"
   ]
  },
  {
   "cell_type": "markdown",
   "id": "c0394593-018d-47cc-b6ba-ab6e16c42328",
   "metadata": {
    "tags": []
   },
   "source": [
    "## Reduced Sensor Input"
   ]
  },
  {
   "cell_type": "markdown",
   "id": "90dcd575-1933-4a81-b6cb-62480786c4d7",
   "metadata": {},
   "source": [
    "**RMSE**\n",
    "\n",
    "| Dropout     | 0%     | 10%    | 20%    | 30%    | 40%    | 50% |\n",
    "|-------------|----    |-----   |-----   |-----   |-----   |-----|\n",
    "| Decoder     | 12.708 | 15.318 | 17.856 | 20.448 | 23.112 | 25.956 |\n",
    "| GMRF        | 19.800 | 21.132 | 22.068 | 23.274 | 24.732 | 26.424 |\n",
    "| Kernel DM+V | 20.124 | 21.060 | 22.140 | 23.292 | 24.714 | 26.298 |\n",
    "\n",
    "**KLD**\n",
    "\n",
    "| Dropout     | 0%       | 10%      | 20%      | 30%      | 40%     | 50%     |\n",
    "|-------------|----      |-----     |-----     |-----     |-----    |-----    |\n",
    "| Decoder     | 0.003249 | 0.004725 | 0.006354 | 0.008075 | 0.01016 | 0.01242 |\n",
    "| GMRF        | 0.008398 | 0.009206 | 0.010164 | 0.011217 | 0.01256 | 0.01413 |\n",
    "| Kernel DM+V | 0.008163 | 0.008986 | 0.009956 | 0.011020 | 0.01237 | 0.01393 |"
   ]
  },
  {
   "cell_type": "markdown",
   "id": "d42c40bc-a9c6-418f-836d-4ce37cb036c6",
   "metadata": {},
   "source": [
    "## Noisy Input Data"
   ]
  },
  {
   "cell_type": "markdown",
   "id": "b5e840b4-2b80-4a83-82f4-2ec7733da276",
   "metadata": {
    "tags": []
   },
   "source": [
    "[Link to Notebook](Noisy%20Test%20Set.ipynb)\n",
    "\n",
    "|                | RMSE   | KLD |\n",
    "|----------------|--------|-----|\n",
    "| Decoder        | 21.605 | 0.00662147 |\n",
    "| DenoiseDecoder | 13.638 | 0.003738520 |\n",
    "| GMRF           | 19.982 | 0.00839788 |\n",
    "| Kernel DM+V    | 20.119 | 0.00816277 |"
   ]
  },
  {
   "cell_type": "code",
   "execution_count": 11,
   "id": "82fbb74f-1498-4beb-9164-cb91f8b9d586",
   "metadata": {},
   "outputs": [
    {
     "name": "stdout",
     "output_type": "stream",
     "text": [
      "21.6054\n",
      "13.63806\n",
      "19.9818\n",
      "20.1186\n"
     ]
    }
   ],
   "source": [
    "l = [0.12003, 0.075767, 0.11101, 0.11177]\n",
    "for n in l:\n",
    "    print(n*180)"
   ]
  },
  {
   "cell_type": "markdown",
   "id": "3d30be04-73be-46a5-a340-52b7e7b2ee41",
   "metadata": {},
   "source": [
    "## Reduced Training Data (Fewer Source Positions)"
   ]
  },
  {
   "cell_type": "markdown",
   "id": "cbee9ece-6512-4e20-8ae6-52dce80d105a",
   "metadata": {},
   "source": [
    "|                | RMSE   | KLD |\n",
    "|----------------|--------|-----|\n",
    "| Decoder        |  7.142 | 0.0031217 |\n",
    "| DecoderLight   |  8.478 | 0.0043830 |\n",
    "| GMRF           | 25.723 | 0.0302570 |\n",
    "| Kernel DM+V    | 25.149 | 0.0299897 |\n"
   ]
  },
  {
   "cell_type": "markdown",
   "id": "03be8579-55df-43e7-bf87-f1f6a5e7049f",
   "metadata": {},
   "source": [
    "## Real Data"
   ]
  },
  {
   "cell_type": "markdown",
   "id": "1d519298-0932-4b8f-955e-502966f247d8",
   "metadata": {},
   "source": [
    "### Leave-One-Out"
   ]
  },
  {
   "cell_type": "markdown",
   "id": "b93e165f-c1da-44fb-94f5-1796f1449ced",
   "metadata": {},
   "source": [
    "Predict a node based on the other nodes\n",
    "\n",
    "April\n",
    "\n",
    "|                | RMSE   | MAE |\n",
    "|----------------|--------|-----|\n",
    "| Decoder (w/ Interpolation) |        | 0.07805897295475006 |\n",
    "| GMRF           |        | 0.06513018586057173 |\n",
    "| Kernel DM+V    |        | 0.059894399845688825 |\n",
    "\n",
    "\n",
    "July\n",
    "\n",
    "|                | RMSE   | MAE |\n",
    "|----------------|--------|-----|\n",
    "| Decoder (w/ Interpolation) |        | 0.04579849913716316 |\n",
    "| GMRF           |        | 0.042444489648016254 |\n",
    "| Kernel DM+V    |        | 0.038914377001481835 |\n",
    "\n",
    "\n",
    "Dec\n",
    "\n",
    "|                | RMSE   | MAE |\n",
    "|----------------|--------|-----|\n",
    "| Decoder (w/ Interpolation) |        |     |\n",
    "| GMRF           |        | 3.2912443555287404e+29 |\n",
    "| Kernel DM+V    |        | 1.0339482441629613e+31 |\n",
    "\n",
    "\n",
    "November\n",
    "\n",
    "|                | RMSE   | MAE |\n",
    "|----------------|--------|-----|\n",
    "| Decoder (w/ Interpolation) |        | 0.08900228887796402 |\n",
    "| GMRF           |        | 0.06098542775850066 |\n",
    "| Kernel DM+V    |        | 0.05655675751171193 |\n"
   ]
  },
  {
   "cell_type": "markdown",
   "id": "0351b433-15c8-436d-8f4c-16d2a86a2c31",
   "metadata": {},
   "source": [
    "Not log-scaled (also wrong calculation of RMSE)"
   ]
  },
  {
   "cell_type": "code",
   "execution_count": 1,
   "id": "03992fe7-e128-40f9-b756-c52e268906d0",
   "metadata": {},
   "outputs": [
    {
     "name": "stdout",
     "output_type": "stream",
     "text": [
      "Decoder: 27.281402490685505\n",
      "Denoising Decoder: 23.956575700809328\n",
      "KDM: 17.485813984785903\n",
      "GMRF: 18.970813720991163\n"
     ]
    }
   ],
   "source": [
    "import numpy as np\n",
    "\n",
    "#N = 114000\n",
    "#m = N / np.sqrt(N)\n",
    "\n",
    "print(f\"Decoder: {(0.09109272807836533 + 0.06222262233495712 + 0.08908627182245255)*m/3}\")\n",
    "print(f\"Denoising Decoder: {(0.07805897295475006 + 0.04579849913716316 + 0.08900228887796402)*m/3}\")\n",
    "print(f\"KDM: {(0.059894399845688825 + 0.038914377001481835 + 0.05655675751171193)*m/3}\")\n",
    "print(f\"GMRF: {(0.06513018586057173*m + 0.042444489648016254*m + 0.06098542775850066*m)/3}\")"
   ]
  },
  {
   "cell_type": "markdown",
   "id": "7ab450a9-83d8-4f67-8834-1ff4c8ffc6bc",
   "metadata": {},
   "source": [
    "Log-scaled"
   ]
  },
  {
   "cell_type": "code",
   "execution_count": 1,
   "id": "b8eec341-d784-4e51-a91d-531b1d5963dd",
   "metadata": {},
   "outputs": [
    {
     "name": "stdout",
     "output_type": "stream",
     "text": [
      "Decoder: 0.08266260474920273\n",
      "Denoising Decoder: 0.07551797727743785\n",
      "KDM: 0.06187054776211559\n",
      "GMRF: 0.06817380405660108\n"
     ]
    }
   ],
   "source": [
    "print(f\"Decoder: {(0.09146200120449066+0.05474146455526352+0.101784348487854)/3}\")\n",
    "print(f\"Denoising Decoder: {(0.09095603972673416+0.05474146455526352+0.08085642755031586)/3}\")\n",
    "print(f\"KDM: {(0.07156770866807284+0.04735020307032404+0.06669373154794987)/3}\")\n",
    "print(f\"GMRF: {(0.07877910358076227+0.052392408198716045+0.0733499003903249)/3}\")"
   ]
  },
  {
   "cell_type": "code",
   "execution_count": null,
   "id": "57708072-decb-4592-bcf3-22ac142c795f",
   "metadata": {},
   "outputs": [],
   "source": []
  },
  {
   "cell_type": "code",
   "execution_count": 1,
   "id": "afd330e8-0457-4a9a-9f02-05b7b2e0b277",
   "metadata": {},
   "outputs": [
    {
     "data": {
      "text/plain": [
       "0.07095325365662575"
      ]
     },
     "execution_count": 1,
     "metadata": {},
     "output_type": "execute_result"
    }
   ],
   "source": [
    "(0.07805897295475006 + 0.04579849913716316 + 0.08900228887796402)/3"
   ]
  },
  {
   "cell_type": "code",
   "execution_count": null,
   "id": "64c43479-f3e1-40cd-9249-35739401bb9e",
   "metadata": {},
   "outputs": [],
   "source": []
  }
 ],
 "metadata": {
  "kernelspec": {
   "display_name": "Python 3 (ipykernel)",
   "language": "python",
   "name": "python3"
  },
  "language_info": {
   "codemirror_mode": {
    "name": "ipython",
    "version": 3
   },
   "file_extension": ".py",
   "mimetype": "text/x-python",
   "name": "python",
   "nbconvert_exporter": "python",
   "pygments_lexer": "ipython3",
   "version": "3.10.9"
  }
 },
 "nbformat": 4,
 "nbformat_minor": 5
}
