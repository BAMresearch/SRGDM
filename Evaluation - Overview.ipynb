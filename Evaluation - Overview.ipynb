{
 "cells": [
  {
   "cell_type": "markdown",
   "id": "01520ba8-4507-4cee-84d6-7ab9f86d7ecb",
   "metadata": {},
   "source": [
    "All evaluation results are pooled here."
   ]
  },
  {
   "cell_type": "markdown",
   "id": "02340692-9042-437c-bd7b-0a2b11cc5459",
   "metadata": {},
   "source": [
    "## Vanilla Test Set"
   ]
  },
  {
   "cell_type": "markdown",
   "id": "43871b1c-5d41-4bd8-a1ec-5714b2aae3fb",
   "metadata": {},
   "source": [
    "### Non-Sequential Models"
   ]
  },
  {
   "cell_type": "markdown",
   "id": "d04173d2-31cd-49c7-9a2a-6f1bd03ee6d8",
   "metadata": {},
   "source": [
    "[Link to Notebook](Vanilla%20Test%20Set.ipynb)\n",
    "\n",
    "|                | RMSE   | KLD |\n",
    "|----------------|--------|-----|\n",
    "| Decoder        | 0.0706 | 0.003249 |\n",
    "| DenoiseDecoder | 0.0731 | 0.003500 |\n",
    "| GMRF           | 0.1110 | 0.008398 |\n",
    "| Kernel DM+V    | 0.1118 | 0.008163 |\n"
   ]
  },
  {
   "cell_type": "markdown",
   "id": "d953432f-4999-4909-a186-a4500fddd6e5",
   "metadata": {},
   "source": [
    "### Sequential Models"
   ]
  },
  {
   "cell_type": "markdown",
   "id": "aa0b6fc7-6159-4dea-a0e7-aa4207b33879",
   "metadata": {},
   "source": [
    "[Link to Notebook](Vanilla%20Test%20Set%20-%20Sequential.ipynb)\n",
    "\n",
    "|                    | RMSE   | KLD        |\n",
    "|--------------------|--------|------------|\n",
    "| Sequential Decoder | 0.07333 | 0.00354572  |\n",
    "| Echo State Map     | 0.1408 | 1.6828e-05 |"
   ]
  },
  {
   "cell_type": "markdown",
   "id": "c0394593-018d-47cc-b6ba-ab6e16c42328",
   "metadata": {
    "tags": []
   },
   "source": [
    "## Reduced Sensor Input"
   ]
  },
  {
   "cell_type": "markdown",
   "id": "90dcd575-1933-4a81-b6cb-62480786c4d7",
   "metadata": {},
   "source": [
    "**RMSE**\n",
    "\n",
    "| Dropout     | 0%     | 10%    | 20%    | 30%    | 40%    | 50% |\n",
    "|-------------|----    |-----   |-----   |-----   |-----   |-----|\n",
    "| Decoder     | 0.0706 | 0.0851 | 0.0992 | 0.1136 | 0.1284 | 0.1442 |\n",
    "| GMRF        | 0.1110 | 0.1164 | 0.1226 | 0.1293 | 0.1374 | 0.1468 |\n",
    "| Kernel DM+V | 0.1118 | 0.1170 | 0.1230 | 0.1294 | 0.1373 | 0.1461 |\n",
    "\n",
    "**KLD**\n",
    "\n",
    "| Dropout     | 0%       | 10%      | 20%      | 30%      | 40%     | 50%     |\n",
    "|-------------|----      |-----     |-----     |-----     |-----    |-----    |\n",
    "| Decoder     | 0.003249 | 0.004725 | 0.006354 | 0.008075 | 0.01016 | 0.01242 |\n",
    "| GMRF        | 0.008398 | 0.009206 | 0.010164 | 0.011217 | 0.01256 | 0.01413 |\n",
    "| Kernel DM+V | 0.008163 | 0.008986 | 0.009956 | 0.011020 | 0.01237 | 0.01393 |"
   ]
  },
  {
   "cell_type": "markdown",
   "id": "d42c40bc-a9c6-418f-836d-4ce37cb036c6",
   "metadata": {},
   "source": [
    "## Noisy Input Data"
   ]
  },
  {
   "cell_type": "markdown",
   "id": "b5e840b4-2b80-4a83-82f4-2ec7733da276",
   "metadata": {
    "tags": []
   },
   "source": [
    "[Link to Notebook](Noisy%20Test%20Set.ipynb)\n",
    "\n",
    "|                | RMSE   | KLD |\n",
    "|----------------|--------|-----|\n",
    "| Decoder        | 0.12003 | 0.00662147 |\n",
    "| DenoiseDecoder | 0.075767 | 0.003738520 |\n",
    "| GMRF           | 0.11101 | 0.00839788 |\n",
    "| Kernel DM+V    | 0.11177 | 0.00816277 |"
   ]
  },
  {
   "cell_type": "markdown",
   "id": "3d30be04-73be-46a5-a340-52b7e7b2ee41",
   "metadata": {},
   "source": [
    "## Reduced Training Data (Fewer Source Positions)"
   ]
  },
  {
   "cell_type": "markdown",
   "id": "cbee9ece-6512-4e20-8ae6-52dce80d105a",
   "metadata": {},
   "source": [
    "|                | RMSE   | KLD |\n",
    "|----------------|--------|-----|\n",
    "| Decoder        | 0.068794 | 0.0031217 |\n",
    "| DecoderLight   | 0.081584 | 0.0043830 |"
   ]
  },
  {
   "cell_type": "markdown",
   "id": "03be8579-55df-43e7-bf87-f1f6a5e7049f",
   "metadata": {},
   "source": [
    "## Real Data"
   ]
  },
  {
   "cell_type": "markdown",
   "id": "1d519298-0932-4b8f-955e-502966f247d8",
   "metadata": {},
   "source": [
    "### Leave-One-Out"
   ]
  },
  {
   "cell_type": "markdown",
   "id": "b93e165f-c1da-44fb-94f5-1796f1449ced",
   "metadata": {},
   "source": [
    "Predict a node based on the other nodes\n",
    "\n",
    "|                | RMSE   | MAE |\n",
    "|----------------|--------|-----|\n",
    "| Decoder (w/ Interpolation) |        |     |\n",
    "| GMRF           |        |     |\n",
    "| Kernel DM+V    |        |     |"
   ]
  },
  {
   "cell_type": "code",
   "execution_count": null,
   "id": "03992fe7-e128-40f9-b756-c52e268906d0",
   "metadata": {},
   "outputs": [],
   "source": []
  }
 ],
 "metadata": {
  "kernelspec": {
   "display_name": "Python 3 (ipykernel)",
   "language": "python",
   "name": "python3"
  },
  "language_info": {
   "codemirror_mode": {
    "name": "ipython",
    "version": 3
   },
   "file_extension": ".py",
   "mimetype": "text/x-python",
   "name": "python",
   "nbconvert_exporter": "python",
   "pygments_lexer": "ipython3",
   "version": "3.10.6"
  }
 },
 "nbformat": 4,
 "nbformat_minor": 5
}
