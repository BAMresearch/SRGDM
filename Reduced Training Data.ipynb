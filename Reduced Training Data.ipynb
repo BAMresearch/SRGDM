{
 "cells": [
  {
   "cell_type": "markdown",
   "id": "bd0b80b7-fcf7-493d-8b44-17277b5a0063",
   "metadata": {},
   "source": [
    "Test and compare a model that only saw wind set (WS) 2 and 3 during training. Test only on WS3.\n",
    "Each gas source position was simulated with one of the three wind sets, i.e., the model is only trained with 2/3 of the gas source positions."
   ]
  },
  {
   "cell_type": "code",
   "execution_count": 1,
   "id": "a8a6e693-15b7-4aeb-a32d-d9ecf95f9605",
   "metadata": {},
   "outputs": [],
   "source": [
    "# ~~~~~~~~~~~~~~~~\n",
    "# PyTorch Model\n",
    "\n",
    "import torch\n",
    "import yaml\n",
    "from models.decoder import architectures\n",
    "\n",
    "with open(\"models/decoder/decoder_params.yaml\") as file:\n",
    "    params = yaml.safe_load(file)\n",
    "\n",
    "decoder = architectures.LightningDecoderNet(params[\"inner_dims\"], params[\"seq_len\"], params[\"learning_rate\"])\n",
    "decoder.load_state_dict(torch.load(\"models/decoder/decoder.pth\"))\n",
    "decoder.eval();\n",
    "\n",
    "decoder_light = architectures.LightningDecoderNet(params[\"inner_dims\"], params[\"seq_len\"], params[\"learning_rate\"])\n",
    "decoder_light.load_state_dict(torch.load(\"models/decoder/decoder_lightTraining.pth\"))\n",
    "decoder_light.eval();\n",
    "\n",
    "# ~~~~~~~~~~~~~~~~\n",
    "# Kernel DM+V\n",
    "\n",
    "from models.kernel_dmv.my_kernel_dmv import KernelDMV\n",
    "kdm = KernelDMV()\n",
    "\n",
    "# ~~~~~~~~~~~~~~~~\n",
    "# GMRF\n",
    "\n",
    "from models.gmrf.my_gmrf import myGMRF\n",
    "gmrf = myGMRF()"
   ]
  },
  {
   "cell_type": "code",
   "execution_count": 2,
   "id": "92d62e38-19d6-4c72-b2cd-02e2ceff330e",
   "metadata": {},
   "outputs": [],
   "source": [
    "from torch.utils import data\n",
    "from data.gdm_dataset import GasDataSet\n",
    "\n",
    "dataset = GasDataSet(\"data/30x25_reducedPositions/test_onlyWS1.pt\")"
   ]
  },
  {
   "cell_type": "code",
   "execution_count": 3,
   "id": "dd7b58b4-c5bf-46cb-9af3-152aba2faa3d",
   "metadata": {},
   "outputs": [],
   "source": [
    "import gdm_metrics\n",
    "\n",
    "rmse = {\"decoder\": 0,\n",
    "        \"decoder_light\": 0, \n",
    "        \"gmrf\": 0,\n",
    "        \"kdm\": 0}\n",
    "\n",
    "kld = { \"decoder\": 0,\n",
    "        \"decoder_light\": 0,\n",
    "        \"gmrf\": 0,\n",
    "        \"kdm\": 0}"
   ]
  },
  {
   "cell_type": "code",
   "execution_count": 4,
   "id": "a531fe43-b58e-4671-a53c-acfec04014c0",
   "metadata": {},
   "outputs": [
    {
     "name": "stderr",
     "output_type": "stream",
     "text": [
      "100%|█████████████████████████████████████| 10800/10800 [08:24<00:00, 21.42it/s]\n"
     ]
    }
   ],
   "source": [
    "from tqdm import tqdm\n",
    "\n",
    "list_of_models = [\n",
    "                  \"decoder\",\n",
    "                  \"decoder_light\",\n",
    "                    \"gmrf\",\n",
    "                    \"kdm\",\n",
    "                 ]\n",
    "\n",
    "dataloader = iter(data.DataLoader(dataset, shuffle=False, drop_last=True))\n",
    "\n",
    "for X, y in tqdm(dataloader):\n",
    "    with torch.no_grad(): \n",
    "        if \"decoder\" in list_of_models:\n",
    "            y_decoder = decoder(X.squeeze(1))\n",
    "            rmse[\"decoder\"] += gdm_metrics.rmse(y_decoder, y)\n",
    "            kld[\"decoder\"] += gdm_metrics.kld(y_decoder, y)\n",
    "        \n",
    "        if \"decoder_light\" in list_of_models:\n",
    "            y_decoder_light = decoder_light(X.squeeze(1))\n",
    "            rmse[\"decoder_light\"] += gdm_metrics.rmse(y_decoder_light, y)\n",
    "            kld[\"decoder_light\"] += gdm_metrics.kld(y_decoder_light, y)\n",
    "            \n",
    "        if \"gmrf\" in list_of_models:\n",
    "            y_gmrf = gmrf.calculate(y.squeeze())[None,None,:]  # add two empty dimensions to be consistent with y.shape\n",
    "            rmse[\"gmrf\"] += gdm_metrics.rmse(y_gmrf, y)\n",
    "            kld[\"gmrf\"] += gdm_metrics.kld(y_gmrf, y)\n",
    "            \n",
    "        if \"kdm\" in list_of_models:\n",
    "            y_kdm = kdm.calculate(y.squeeze())[None,None,:]    # add two empty dimensions to be consistent with y.shape\n",
    "            rmse[\"kdm\"] += gdm_metrics.rmse(y_kdm, y)\n",
    "            kld[\"kdm\"] += gdm_metrics.kld(y_kdm, y)"
   ]
  },
  {
   "cell_type": "code",
   "execution_count": 5,
   "id": "a7430887-35e7-49a2-9b51-364847c5776a",
   "metadata": {},
   "outputs": [
    {
     "name": "stdout",
     "output_type": "stream",
     "text": [
      "########\n",
      "# RMSE #\n",
      "########\n",
      "decoder: \t 0.06872546672821045\n",
      "decoder_light: \t 0.0815834030508995\n",
      "gmrf: \t 0.24751980237169982\n",
      "kdm: \t 0.24200097596722714\n",
      "########\n",
      "# KL D #\n",
      "########\n",
      "decoder: \t 0.003116118023172021\n",
      "decoder_light: \t 0.004383143503218889\n",
      "gmrf: \t 0.030179070865121782\n",
      "kdm: \t 0.029926305993333607\n"
     ]
    }
   ],
   "source": [
    "# Print results\n",
    "print(f\"########\\n# RMSE #\\n########\")\n",
    "for elem in rmse:\n",
    "    print(f\"{elem}: \\t {rmse[elem]/len(dataloader)}\")\n",
    "    \n",
    "print(f\"########\\n# KL D #\\n########\")\n",
    "for elem in kld:\n",
    "    print(f\"{elem}: \\t {kld[elem]/len(dataloader)}\")"
   ]
  },
  {
   "cell_type": "code",
   "execution_count": 5,
   "id": "1b23b042-f551-4427-90dc-f774ba89d250",
   "metadata": {},
   "outputs": [
    {
     "name": "stdout",
     "output_type": "stream",
     "text": [
      "7.142160008828695\n",
      "8.478395948311661\n",
      "25.723012415231494\n",
      "25.149479151389535\n"
     ]
    }
   ],
   "source": [
    "import numpy as np\n",
    "\n",
    "rmses = [0.06872546672821045, 0.0815834030508995, 0.24751980237169982, 0.24200097596722714]\n",
    "\n",
    "for r in rmses:\n",
    "    print(r*len(dataset)/np.sqrt(len(dataset)))"
   ]
  },
  {
   "cell_type": "code",
   "execution_count": null,
   "id": "60f3b72d-9913-4867-b4b1-6f2a4e578a9a",
   "metadata": {},
   "outputs": [],
   "source": []
  }
 ],
 "metadata": {
  "kernelspec": {
   "display_name": "Python 3 (ipykernel)",
   "language": "python",
   "name": "python3"
  },
  "language_info": {
   "codemirror_mode": {
    "name": "ipython",
    "version": 3
   },
   "file_extension": ".py",
   "mimetype": "text/x-python",
   "name": "python",
   "nbconvert_exporter": "python",
   "pygments_lexer": "ipython3",
   "version": "3.10.8"
  }
 },
 "nbformat": 4,
 "nbformat_minor": 5
}
