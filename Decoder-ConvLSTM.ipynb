{
 "cells": [
  {
   "cell_type": "code",
   "execution_count": 1,
   "id": "1707a71d-66d0-4a32-b6c1-73c774300a45",
   "metadata": {},
   "outputs": [],
   "source": [
    "BATCH_SIZE = 1\n",
    "EPOCHS = 50\n",
    "NUM_WORKERS = 2 # number of CPUs used\n",
    "NTH_FRAME = 2\n",
    "SLIDING_STEP = 1\n",
    "SEQ_LEN = 1\n",
    "\n",
    "DIR = \"data/30x25/\""
   ]
  },
  {
   "cell_type": "markdown",
   "id": "1248a9d7-2038-4984-a675-bf098f377ca4",
   "metadata": {},
   "source": [
    "Create Lightning model of Decoder-ConvLSTM"
   ]
  },
  {
   "cell_type": "code",
   "execution_count": 3,
   "id": "0daf626f-12bc-45d9-8c61-d4243f2f430d",
   "metadata": {},
   "outputs": [],
   "source": [
    "from models.decoder.architectures import DecoderConvLSTM\n",
    "import pytorch_lightning as pl\n",
    "\n",
    "class LightningNet(pl.LightningModule):\n",
    "    def __init__(self, inner_dims, seq_len, learning_rate):\n",
    "        super().__init__()        \n",
    "        \n",
    "        with open(\"models/decoder/decoder_params.yaml\") as file:\n",
    "            params = yaml.safe_load(file)\n",
    "        decoder = models.decoder.architectures.LightningNet(params[\"inner_dims\"], params[\"seq_len\"], params[\"learning_rate\"])\n",
    "        decoder.load_state_dict(torch.load(\"models/decoder/decoder.pth\"))\n",
    "        decoder.eval();\n",
    "        \n",
    "        self.model = DecoderConvLSTM(inner_dims=inner_dims, seq_len=seq_len, decoder=decoder)\n",
    "        self.inner_dims = inner_dims\n",
    "        self.seq_len = seq_len\n",
    "        self.learning_rate = learning_rate\n",
    "        self.save_hyperparameters()\n",
    "        \n",
    "    def forward(self, x):\n",
    "        return self.model(x)\n",
    "    \n",
    "    def configure_optimizers(self):\n",
    "        optimizer = torch.optim.Adam(self.parameters(), lr=self.learning_rate)\n",
    "        return optimizer\n",
    "\n",
    "    def training_step(self, batch, batch_idx):\n",
    "        X, y = batch  \n",
    "        # .squeeze(2) to remove the seq_len dim:\n",
    "        # [batch, seq_len, channel, width, height] -> [batch, seq_len, width, height]\n",
    "        y_hat = self(X.squeeze(1)) \n",
    "        loss = F.mse_loss(y_hat, y)\n",
    "        self.log('train_loss', loss, on_step=False, on_epoch=True)\n",
    "        return loss\n",
    "\n",
    "    def validation_step(self, batch, batch_idx):\n",
    "        X, y = batch  \n",
    "        y_hat = self(X.squeeze(2))\n",
    "        loss = F.mse_loss(y_hat, y)\n",
    "        rmse = torch.sqrt(loss)\n",
    "        self.log('val_loss', loss, on_step=False, on_epoch=True)\n",
    "        \n",
    "    def test_step(self, batch, batch_idx):\n",
    "        X, y = batch\n",
    "        y_hat = self(X.squeeze(2))\n",
    "        loss = F.mse_loss(y_hat, y)\n",
    "        rmse = torch.sqrt(loss)\n",
    "        self.log(\"loss\", {\"loss\":loss, \"rmse\": rmse})"
   ]
  },
  {
   "cell_type": "code",
   "execution_count": 4,
   "id": "d4524e48-13e9-4c01-8553-aaf3cb364fc7",
   "metadata": {},
   "outputs": [
    {
     "name": "stderr",
     "output_type": "stream",
     "text": [
      "/home/nicolas/miniconda3/envs/torch/lib/python3.10/site-packages/optuna/progress_bar.py:49: ExperimentalWarning: Progress bar is experimental (supported from v1.2.0). The interface can change in the future.\n",
      "  self._init_valid()\n"
     ]
    },
    {
     "data": {
      "application/vnd.jupyter.widget-view+json": {
       "model_id": "6b687016b033418aa598cc792165a3f5",
       "version_major": 2,
       "version_minor": 0
      },
      "text/plain": [
       "  0%|          | 0/1 [00:00<?, ?it/s]"
      ]
     },
     "metadata": {},
     "output_type": "display_data"
    },
    {
     "name": "stderr",
     "output_type": "stream",
     "text": [
      "GPU available: False, used: False\n",
      "TPU available: False, using: 0 TPU cores\n",
      "IPU available: False, using: 0 IPUs\n",
      "HPU available: False, using: 0 HPUs\n",
      "Running in `fast_dev_run` mode: will run the requested loop using 1 batch(es). Logging and checkpointing is suppressed.\n",
      "/home/nicolas/miniconda3/envs/torch/lib/python3.10/site-packages/pytorch_lightning/trainer/connectors/data_connector.py:236: PossibleUserWarning: The dataloader, train_dataloader, does not have many workers which may be a bottleneck. Consider increasing the value of the `num_workers` argument` (try 8 which is the number of cpus on this machine) in the `DataLoader` init to improve performance.\n",
      "  rank_zero_warn(\n",
      "/home/nicolas/miniconda3/envs/torch/lib/python3.10/site-packages/pytorch_lightning/trainer/trainer.py:1892: PossibleUserWarning: The number of training batches (1) is smaller than the logging interval Trainer(log_every_n_steps=50). Set a lower value for log_every_n_steps if you want to see logs for the training epoch.\n",
      "  rank_zero_warn(\n",
      "/home/nicolas/miniconda3/envs/torch/lib/python3.10/site-packages/pytorch_lightning/trainer/connectors/data_connector.py:236: PossibleUserWarning: The dataloader, val_dataloader 0, does not have many workers which may be a bottleneck. Consider increasing the value of the `num_workers` argument` (try 8 which is the number of cpus on this machine) in the `DataLoader` init to improve performance.\n",
      "  rank_zero_warn(\n",
      "`Trainer.fit` stopped: `max_steps=1` reached.\n"
     ]
    }
   ],
   "source": [
    "import optuna\n",
    "from optuna.integration import PyTorchLightningPruningCallback\n",
    "\n",
    "import torch\n",
    "import pytorch_lightning as pl\n",
    "\n",
    "from models.decoder.architectures import LightningNet\n",
    "from data.gdm_dataset import GasDataModule\n",
    "\n",
    "def objective(trial):\n",
    "    num_layers = 5\n",
    "    learning_rate = trial.suggest_float(\"lr\", 1e-5, 1e-2)\n",
    "    inner_dims = [trial.suggest_int(\"inner_dims_{}\".format(i), 3, 100, log=True) for i in range(num_layers)]\n",
    "\n",
    "    model = LightningNet(inner_dims, SEQ_LEN, learning_rate)\n",
    "    datamodule = GasDataModule(data_dir=DIR, seq_len=SEQ_LEN, nth_frame=NTH_FRAME, batch_size=BATCH_SIZE, num_workers=NUM_WORKERS)\n",
    "    \n",
    "    tb_logger = pl.loggers.TensorBoardLogger(\n",
    "        save_dir=\"logs\", \n",
    "        name=\"decoderconvlstm\",\n",
    "        #version=\n",
    "    )\n",
    "    trainer = pl.Trainer(\n",
    "        logger = tb_logger,\n",
    "        min_epochs = int(EPOCHS/2),\n",
    "        max_epochs = EPOCHS,\n",
    "        gpus=1 if torch.cuda.is_available() else None,\n",
    "        #callbacks=[PyTorchLightningPruningCallback(trial, monitor=\"val_loss\")],\n",
    "        enable_progress_bar=False,\n",
    "        enable_model_summary=False,\n",
    "        fast_dev_run=True # set to False, if model should be trained\n",
    "    )\n",
    "    \n",
    "    trainer.fit(model, datamodule=datamodule)\n",
    "    \n",
    "    return trainer.callback_metrics[\"val_loss\"].item()\n",
    "\n",
    "\n",
    "optuna.logging.set_verbosity(optuna.logging.ERROR)\n",
    "\n",
    "study = optuna.create_study(direction=\"minimize\")\n",
    "study.optimize(objective, n_trials=1, show_progress_bar=True)"
   ]
  }
 ],
 "metadata": {
  "kernelspec": {
   "display_name": "Python 3 (ipykernel)",
   "language": "python",
   "name": "python3"
  },
  "language_info": {
   "codemirror_mode": {
    "name": "ipython",
    "version": 3
   },
   "file_extension": ".py",
   "mimetype": "text/x-python",
   "name": "python",
   "nbconvert_exporter": "python",
   "pygments_lexer": "ipython3",
   "version": "3.10.6"
  }
 },
 "nbformat": 4,
 "nbformat_minor": 5
}
